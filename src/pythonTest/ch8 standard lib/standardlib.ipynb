{
 "cells": [
  {
   "cell_type": "markdown",
   "metadata": {},
   "source": [
    "### datetime模块"
   ]
  },
  {
   "cell_type": "code",
   "execution_count": 14,
   "metadata": {},
   "outputs": [
    {
     "name": "stdout",
     "output_type": "stream",
     "text": [
      "2024-08-05 20:32:52.778930\n",
      "2024-08-05\n",
      "20:32:52.778988\n",
      "Mon Aug  5 20:32:52 2024\n",
      "2024-08-05 12:32:52.779068\n",
      "1722861172.778988\n",
      "2024-08-05 20:32:52.778988\n",
      "2018-02-12 20:53:48\n",
      "2018-02-12 20:59:00\n",
      "2024\n",
      "8\n",
      "5\n",
      "20\n",
      "32\n",
      "52\n",
      "0\n",
      "218\n",
      "-1\n",
      "(2024, 32, 1)\n",
      "2024年08月05日 20：32:52 PM\n"
     ]
    }
   ],
   "source": [
    "from datetime import datetime, date, time\n",
    "print(datetime.now())\n",
    "today = datetime.now()\n",
    "print(datetime.date(today))\n",
    "print(datetime.time(today))\n",
    "print(datetime.ctime(today))\n",
    "print(datetime.utcnow())\n",
    "print(datetime.timestamp(today))\n",
    "print(datetime.fromtimestamp(datetime.timestamp(today)))\n",
    "date1 = date(2018, 2, 12)\n",
    "time1 = time(20, 53, 48)\n",
    "print(datetime.combine(date1, time1))\n",
    "newDatetime = datetime.strptime(\"12/2/18 20:59\",'%d/%m/%y %H:%M')\n",
    "print(newDatetime)\n",
    "for tv in datetime.timetuple(today):\n",
    "    print(tv)\n",
    "print(today.isocalendar())\n",
    "print(today.strftime(\"%Y年%m月%d日 %H：%M:%S %p\"))"
   ]
  },
  {
   "cell_type": "markdown",
   "metadata": {},
   "source": [
    "### math模块"
   ]
  },
  {
   "cell_type": "code",
   "execution_count": 22,
   "metadata": {},
   "outputs": [
    {
     "name": "stdout",
     "output_type": "stream",
     "text": [
      "3\n",
      "4\n",
      "3\n",
      "6.0\n",
      "6\n",
      "6.0\n",
      "0.5\n",
      "0.5\n"
     ]
    }
   ],
   "source": [
    "import math\n",
    "print(math.trunc(3.90))   #向下取整\n",
    "print(math.ceil(3.23))    #向上取整\n",
    "print(round(3.49))        #四舍五入\n",
    "t_nums = (1,2,3)\n",
    "print(math.fsum(t_nums))\n",
    "print(sum(t_nums))\n",
    "l_nums = [1,2,3]\n",
    "print(math.fsum(l_nums))\n",
    "print(math.fabs(-0.5))\n",
    "print(abs(-0.5))"
   ]
  },
  {
   "cell_type": "markdown",
   "metadata": {},
   "source": [
    "### random模块"
   ]
  },
  {
   "cell_type": "markdown",
   "metadata": {},
   "source": [
    "生成随机数计算均值，正态(高斯)分布，对数正态分布，伽马(Gamma)分布和贝塔(Beta)分布"
   ]
  },
  {
   "cell_type": "code",
   "execution_count": 1,
   "metadata": {},
   "outputs": [
    {
     "name": "stdout",
     "output_type": "stream",
     "text": [
      "0.7877019444752615\n",
      "4.377107469978295\n",
      "8.543278693198467\n",
      "0.740140322347255\n"
     ]
    }
   ],
   "source": [
    "import random\n",
    "print(random.random())\n",
    "print(random.uniform(1,10))\n",
    "print(random.triangular(1,10,7))\n",
    "print(random.betavariate(5,3))\n"
   ]
  },
  {
   "cell_type": "markdown",
   "metadata": {},
   "source": [
    "### OS模块"
   ]
  },
  {
   "cell_type": "code",
   "execution_count": 8,
   "metadata": {},
   "outputs": [
    {
     "name": "stdout",
     "output_type": "stream",
     "text": [
      "environ({'ALLUSERSPROFILE': 'C:\\\\ProgramData', 'APPDATA': 'C:\\\\Users\\\\a1503\\\\AppData\\\\Roaming', 'APPLICATION_INSIGHTS_NO_DIAGNOSTIC_CHANNEL': 'true', 'ASL.LOG': 'Destination=file', 'CHOCOLATEYINSTALL': 'C:\\\\ProgramData\\\\chocolatey', 'CHOCOLATEYLASTPATHUPDATE': '133239470847200724', 'CHROME_CRASHPAD_PIPE_NAME': '\\\\\\\\.\\\\pipe\\\\crashpad_24528_SZFCVJICPTQVHTNM', 'COMMONPROGRAMFILES': 'C:\\\\Program Files\\\\Common Files', 'COMMONPROGRAMFILES(X86)': 'C:\\\\Program Files (x86)\\\\Common Files', 'COMMONPROGRAMW6432': 'C:\\\\Program Files\\\\Common Files', 'COMPUTERNAME': 'TIPRIEST', 'COMSPEC': 'C:\\\\WINDOWS\\\\system32\\\\cmd.exe', 'DRIVERDATA': 'C:\\\\Windows\\\\System32\\\\Drivers\\\\DriverData', 'EFC_6824': '1', 'ELECTRON_RUN_AS_NODE': '1', 'HOMEDRIVE': 'C:', 'HOMEPATH': '\\\\Users\\\\a1503', 'JPY_INTERRUPT_EVENT': '2156', 'KEYSHOT9': 'C:\\\\Users\\\\Public\\\\Documents\\\\KeyShot 9', 'LOCALAPPDATA': 'C:\\\\Users\\\\a1503\\\\AppData\\\\Local', 'LOGONSERVER': '\\\\\\\\TIPRIEST', 'NUMBER_OF_PROCESSORS': '16', 'ONEDRIVE': 'C:\\\\Users\\\\a1503\\\\OneDrive', 'ONEDRIVECONSUMER': 'C:\\\\Users\\\\a1503\\\\OneDrive', 'ORIGINAL_XDG_CURRENT_DESKTOP': 'undefined', 'OS': 'Windows_NT', 'PATH': 'c:\\\\Users\\\\a1503\\\\AppData\\\\Local\\\\Programs\\\\Python\\\\Python311;c:\\\\Users\\\\a1503\\\\AppData\\\\Roaming\\\\Python\\\\Python311\\\\Scripts;C:\\\\Program Files\\\\Microsoft\\\\jdk-11.0.12.7-hotspot\\\\bin;C:\\\\Windows\\\\system32;C:\\\\Windows;C:\\\\Windows\\\\System32\\\\Wbem;C:\\\\Windows\\\\System32\\\\WindowsPowerShell\\\\v1.0\\\\;C:\\\\Windows\\\\System32\\\\OpenSSH\\\\;C:\\\\Program Files (x86)\\\\NVIDIA Corporation\\\\PhysX\\\\Common;C:\\\\Program Files\\\\NVIDIA Corporation\\\\NVIDIA NvDLISR;C:\\\\Program Files (x86)\\\\Windows Kits\\\\8.1\\\\Windows Performance Toolkit\\\\;D:\\\\D Program Files\\\\Git\\\\Git\\\\cmd;D:\\\\D Program Files\\\\TortoiseGit\\\\bin;C:\\\\Program Files\\\\dotnet\\\\;C:\\\\ProgramData\\\\Anaconda;C:\\\\ProgramData\\\\Anaconda\\\\Scripts;D:\\\\D Program Files\\\\Matlab\\\\R2020a\\\\runtime\\\\win64;D:\\\\D Program Files\\\\Matlab\\\\R2020a\\\\bin;D:\\\\D Program Files\\\\Matlab\\\\R2020a\\\\polyspace\\\\bin;D:\\\\D Program Files\\\\nodejs\\\\;C:\\\\ProgramData\\\\chocolatey\\\\bin;;C:\\\\Program Files (x86)\\\\PDFtk Server\\\\bin\\\\;%SystemRoot%\\\\system32;%SystemRoot%;%SystemRoot%\\\\System32\\\\Wbem;%SYSTEMROOT%\\\\System32\\\\WindowsPowerShell\\\\v1.0\\\\;%SYSTEMROOT%\\\\System32\\\\OpenSSH\\\\;C:\\\\Users\\\\a1503\\\\AppData\\\\Local\\\\Programs\\\\Python\\\\Python311\\\\Scripts\\\\;C:\\\\Users\\\\a1503\\\\AppData\\\\Local\\\\Programs\\\\Python\\\\Python311\\\\;C:\\\\Users\\\\a1503\\\\AppData\\\\Local\\\\Microsoft\\\\WindowsApps;D:\\\\D Program Files\\\\Microsoft VS Code\\\\Microsoft VS Code\\\\bin;D:\\\\D Program Files\\\\JetBrains\\\\PyCharm Community Edition 2022.1.3\\\\bin;;C:\\\\Users\\\\a1503\\\\.dotnet\\\\tools;C:\\\\ProgramData\\\\Anaconda;C:\\\\ProgramData\\\\Anaconda\\\\Scripts;C:\\\\Users\\\\a1503\\\\AppData\\\\Roaming\\\\npm;C:\\\\mingw64\\\\bin;;C:\\\\Program Files\\\\Microsoft\\\\jdk-11.0.12.7-hotspot\\\\bin;C:\\\\Windows\\\\system32;C:\\\\Windows;C:\\\\Windows\\\\System32\\\\Wbem;C:\\\\Windows\\\\System32\\\\WindowsPowerShell\\\\v1.0\\\\;C:\\\\Windows\\\\System32\\\\OpenSSH\\\\;C:\\\\Program Files (x86)\\\\NVIDIA Corporation\\\\PhysX\\\\Common;C:\\\\Program Files\\\\NVIDIA Corporation\\\\NVIDIA NvDLISR;C:\\\\Program Files (x86)\\\\Windows Kits\\\\8.1\\\\Windows Performance Toolkit\\\\;D:\\\\D Program Files\\\\Git\\\\Git\\\\cmd;D:\\\\D Program Files\\\\TortoiseGit\\\\bin;C:\\\\Program Files\\\\dotnet\\\\;C:\\\\ProgramData\\\\Anaconda;C:\\\\ProgramData\\\\Anaconda\\\\Scripts;D:\\\\D Program Files\\\\Matlab\\\\R2020a\\\\runtime\\\\win64;D:\\\\D Program Files\\\\Matlab\\\\R2020a\\\\bin;D:\\\\D Program Files\\\\Matlab\\\\R2020a\\\\polyspace\\\\bin;D:\\\\D Program Files\\\\nodejs\\\\;C:\\\\ProgramData\\\\chocolatey\\\\bin;;C:\\\\Program Files (x86)\\\\PDFtk Server\\\\bin\\\\;%SystemRoot%\\\\system32;%SystemRoot%;%SystemRoot%\\\\System32\\\\Wbem;%SYSTEMROOT%\\\\System32\\\\WindowsPowerShell\\\\v1.0\\\\;%SYSTEMROOT%\\\\System32\\\\OpenSSH\\\\;C:\\\\Users\\\\a1503\\\\AppData\\\\Local\\\\Programs\\\\Python\\\\Python311\\\\Scripts\\\\;C:\\\\Users\\\\a1503\\\\AppData\\\\Local\\\\Programs\\\\Python\\\\Python311\\\\;C:\\\\Users\\\\a1503\\\\AppData\\\\Local\\\\Microsoft\\\\WindowsApps;D:\\\\D Program Files\\\\Microsoft VS Code\\\\Microsoft VS Code\\\\bin;D:\\\\D Program Files\\\\JetBrains\\\\PyCharm Community Edition 2022.1.3\\\\bin;;C:\\\\Users\\\\a1503\\\\.dotnet\\\\tools;C:\\\\ProgramData\\\\Anaconda;C:\\\\ProgramData\\\\Anaconda\\\\Scripts;C:\\\\Users\\\\a1503\\\\AppData\\\\Roaming\\\\npm;C:\\\\mingw64\\\\bin;', 'PATHEXT': '.COM;.EXE;.BAT;.CMD;.VBS;.VBE;.JS;.JSE;.WSF;.WSH;.MSC', 'PROCESSOR_ARCHITECTURE': 'AMD64', 'PROCESSOR_IDENTIFIER': 'AMD64 Family 25 Model 80 Stepping 0, AuthenticAMD', 'PROCESSOR_LEVEL': '25', 'PROCESSOR_REVISION': '5000', 'PROGRAMDATA': 'C:\\\\ProgramData', 'PROGRAMFILES': 'C:\\\\Program Files', 'PROGRAMFILES(X86)': 'C:\\\\Program Files (x86)', 'PROGRAMW6432': 'C:\\\\Program Files', 'PSMODULEPATH': 'C:\\\\Program Files\\\\WindowsPowerShell\\\\Modules;C:\\\\WINDOWS\\\\system32\\\\WindowsPowerShell\\\\v1.0\\\\Modules', 'PUBLIC': 'C:\\\\Users\\\\Public', 'PYCHARM COMMUNITY EDITION': 'D:\\\\D Program Files\\\\JetBrains\\\\PyCharm Community Edition 2022.1.3\\\\bin;', 'PYDEVD_IPYTHON_COMPATIBLE_DEBUGGING': '1', 'PYTHONIOENCODING': 'utf-8', 'PYTHONUNBUFFERED': '1', 'PYTHON_FROZEN_MODULES': 'on', 'SESSIONNAME': 'Console', 'SYSTEMDRIVE': 'C:', 'SYSTEMROOT': 'C:\\\\WINDOWS', 'TEMP': 'C:\\\\Users\\\\a1503\\\\AppData\\\\Local\\\\Temp', 'TMP': 'C:\\\\Users\\\\a1503\\\\AppData\\\\Local\\\\Temp', 'USERDOMAIN': 'TIPRIEST', 'USERDOMAIN_ROAMINGPROFILE': 'TIPRIEST', 'USERNAME': 'a1503', 'USERPROFILE': 'C:\\\\Users\\\\a1503', 'VSCODE_AMD_ENTRYPOINT': 'vs/workbench/api/node/extensionHostProcess', 'VSCODE_CODE_CACHE_PATH': 'C:\\\\Users\\\\a1503\\\\AppData\\\\Roaming\\\\Code\\\\CachedData\\\\b1c0a14de1414fcdaa400695b4db1c0799bc3124', 'VSCODE_CRASH_REPORTER_PROCESS_TYPE': 'extensionHost', 'VSCODE_CWD': 'D:\\\\D Program Files\\\\Microsoft VS Code\\\\Microsoft VS Code', 'VSCODE_HANDLES_UNCAUGHT_ERRORS': 'true', 'VSCODE_IPC_HOOK': '\\\\\\\\.\\\\pipe\\\\4b6ceb80-1.92.0-main-sock', 'VSCODE_L10N_BUNDLE_LOCATION': '', 'VSCODE_NLS_CONFIG': '{\"userLocale\":\"zh-cn\",\"osLocale\":\"en-gb\",\"resolvedLanguage\":\"en\",\"defaultMessagesFile\":\"D:\\\\\\\\D Program Files\\\\\\\\Microsoft VS Code\\\\\\\\Microsoft VS Code\\\\\\\\resources\\\\\\\\app\\\\\\\\out\\\\\\\\nls.messages.json\",\"locale\":\"en\",\"availableLanguages\":{}}', 'VSCODE_PID': '24528', 'WINDIR': 'C:\\\\WINDOWS', '__COMPAT_LAYER': 'DetectorsAppHealth', 'PYDEVD_USE_FRAME_EVAL': 'NO', 'TERM': 'xterm-color', 'CLICOLOR': '1', 'FORCE_COLOR': '1', 'CLICOLOR_FORCE': '1', 'PAGER': 'cat', 'GIT_PAGER': 'cat', 'MPLBACKEND': 'module://matplotlib_inline.backend_inline'})\n",
      "d:\\AlgorithmPractice\\src\\pythonTest\\ch8 standard lib\n",
      "0\n"
     ]
    }
   ],
   "source": [
    "import os\n",
    "print(os.environ)\n",
    "print(os.getcwd())\n",
    "print(os.system('ping 127.0.0.1'))\n",
    "print(os.urandom(10)) #返回一串适合加密的n字节大小的随机字符串"
   ]
  },
  {
   "cell_type": "markdown",
   "metadata": {},
   "source": [
    "### SYS模块"
   ]
  },
  {
   "cell_type": "code",
   "execution_count": 1,
   "metadata": {},
   "outputs": [
    {
     "name": "stdout",
     "output_type": "stream",
     "text": [
      "c:\\Users\\a1503\\AppData\\Local\\Programs\\Python\\Python311\\python311.zip\n",
      "c:\\Users\\a1503\\AppData\\Local\\Programs\\Python\\Python311\\Lib\n",
      "c:\\Users\\a1503\\AppData\\Local\\Programs\\Python\\Python311\\DLLs\n",
      "\n",
      "C:\\Users\\a1503\\AppData\\Roaming\\Python\\Python311\\site-packages\n",
      "C:\\Users\\a1503\\AppData\\Roaming\\Python\\Python311\\site-packages\\win32\n",
      "C:\\Users\\a1503\\AppData\\Roaming\\Python\\Python311\\site-packages\\win32\\lib\n",
      "C:\\Users\\a1503\\AppData\\Roaming\\Python\\Python311\\site-packages\\Pythonwin\n",
      "c:\\Users\\a1503\\AppData\\Local\\Programs\\Python\\Python311\n",
      "c:\\Users\\a1503\\AppData\\Local\\Programs\\Python\\Python311\\Lib\\site-packages\n",
      "win32\n",
      "use windows's version code\n",
      "sys.getwindowsversion(major=10, minor=0, build=22631, platform=2, service_pack='')\n"
     ]
    }
   ],
   "source": [
    "import sys\n",
    "for i in sys.path:\n",
    "    print(i)\n",
    "print(sys.platform)\n",
    "if sys.platform.startswith('win32'):\n",
    "    print(\"use windows's version code\")\n",
    "elif sys.platform.startswith('linux'):\n",
    "    print(\"use linux's version code\")\n",
    "print(sys.getwindowsversion())\n"
   ]
  },
  {
   "cell_type": "markdown",
   "metadata": {},
   "source": [
    "### time模块"
   ]
  },
  {
   "cell_type": "code",
   "execution_count": 8,
   "metadata": {},
   "outputs": [
    {
     "name": "stdout",
     "output_type": "stream",
     "text": [
      "1.000208700017538\n",
      "00时:59分:12秒\n",
      "1722877152.5291736\n"
     ]
    }
   ],
   "source": [
    "import time\n",
    "t1 = time.perf_counter()\n",
    "time.sleep(1) #暂停所执行的调用线程到指定的秒数\n",
    "t2 = time.perf_counter()\n",
    "print(t2-t1)\n",
    "print(time.strftime(\"%H时:%M分:%S秒\"))\n",
    "print(time.time()) #自1970年1月1日00:00开始的秒数"
   ]
  }
 ],
 "metadata": {
  "kernelspec": {
   "display_name": "Python 3",
   "language": "python",
   "name": "python3"
  },
  "language_info": {
   "codemirror_mode": {
    "name": "ipython",
    "version": 3
   },
   "file_extension": ".py",
   "mimetype": "text/x-python",
   "name": "python",
   "nbconvert_exporter": "python",
   "pygments_lexer": "ipython3",
   "version": "3.11.1"
  }
 },
 "nbformat": 4,
 "nbformat_minor": 2
}

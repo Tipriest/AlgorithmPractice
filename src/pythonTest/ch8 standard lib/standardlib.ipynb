{
 "cells": [
  {
   "cell_type": "markdown",
   "metadata": {},
   "source": [
    "### datetime模块"
   ]
  },
  {
   "cell_type": "code",
   "execution_count": 14,
   "metadata": {},
   "outputs": [
    {
     "name": "stdout",
     "output_type": "stream",
     "text": [
      "2024-08-05 20:32:52.778930\n",
      "2024-08-05\n",
      "20:32:52.778988\n",
      "Mon Aug  5 20:32:52 2024\n",
      "2024-08-05 12:32:52.779068\n",
      "1722861172.778988\n",
      "2024-08-05 20:32:52.778988\n",
      "2018-02-12 20:53:48\n",
      "2018-02-12 20:59:00\n",
      "2024\n",
      "8\n",
      "5\n",
      "20\n",
      "32\n",
      "52\n",
      "0\n",
      "218\n",
      "-1\n",
      "(2024, 32, 1)\n",
      "2024年08月05日 20：32:52 PM\n"
     ]
    }
   ],
   "source": [
    "from datetime import datetime, date, time\n",
    "print(datetime.now())\n",
    "today = datetime.now()\n",
    "print(datetime.date(today))\n",
    "print(datetime.time(today))\n",
    "print(datetime.ctime(today))\n",
    "print(datetime.utcnow())\n",
    "print(datetime.timestamp(today))\n",
    "print(datetime.fromtimestamp(datetime.timestamp(today)))\n",
    "date1 = date(2018, 2, 12)\n",
    "time1 = time(20, 53, 48)\n",
    "print(datetime.combine(date1, time1))\n",
    "newDatetime = datetime.strptime(\"12/2/18 20:59\",'%d/%m/%y %H:%M')\n",
    "print(newDatetime)\n",
    "for tv in datetime.timetuple(today):\n",
    "    print(tv)\n",
    "print(today.isocalendar())\n",
    "print(today.strftime(\"%Y年%m月%d日 %H：%M:%S %p\"))"
   ]
  },
  {
   "cell_type": "markdown",
   "metadata": {},
   "source": [
    "### math模块"
   ]
  },
  {
   "cell_type": "code",
   "execution_count": 22,
   "metadata": {},
   "outputs": [
    {
     "name": "stdout",
     "output_type": "stream",
     "text": [
      "3\n",
      "4\n",
      "3\n",
      "6.0\n",
      "6\n",
      "6.0\n",
      "0.5\n",
      "0.5\n"
     ]
    }
   ],
   "source": [
    "import math\n",
    "print(math.trunc(3.90))   #向下取整\n",
    "print(math.ceil(3.23))    #向上取整\n",
    "print(round(3.49))        #四舍五入\n",
    "t_nums = (1,2,3)\n",
    "print(math.fsum(t_nums))\n",
    "print(sum(t_nums))\n",
    "l_nums = [1,2,3]\n",
    "print(math.fsum(l_nums))\n",
    "print(math.fabs(-0.5))\n",
    "print(abs(-0.5))"
   ]
  },
  {
   "cell_type": "markdown",
   "metadata": {},
   "source": [
    "### random模块"
   ]
  },
  {
   "cell_type": "markdown",
   "metadata": {},
   "source": [
    "生成随机数计算均值，正态(高斯)分布，对数正态分布，伽马(Gamma)分布和贝塔(Beta)分布"
   ]
  },
  {
   "cell_type": "code",
   "execution_count": 1,
   "metadata": {},
   "outputs": [
    {
     "name": "stdout",
     "output_type": "stream",
     "text": [
      "0.7877019444752615\n",
      "4.377107469978295\n",
      "8.543278693198467\n",
      "0.740140322347255\n"
     ]
    }
   ],
   "source": [
    "import random\n",
    "print(random.random())\n",
    "print(random.uniform(1,10))\n",
    "print(random.triangular(1,10,7))\n",
    "print(random.betavariate(5,3))\n"
   ]
  },
  {
   "cell_type": "markdown",
   "metadata": {},
   "source": [
    "### OS模块"
   ]
  },
  {
   "cell_type": "code",
   "execution_count": 23,
   "metadata": {},
   "outputs": [
    {
     "name": "stdout",
     "output_type": "stream",
     "text": [
      "environ({'BASH_ENV': '/usr/share/modules/init/bash', 'CHROME_DESKTOP': 'code-url-handler.desktop', 'CLUTTER_IM_MODULE': 'fcitx', 'COLORTERM': 'truecolor', 'DBUS_SESSION_BUS_ADDRESS': 'unix:path=/run/user/1000/bus,guid=67f9162c3b19eb1231275da86698c592', 'DBUS_STARTER_ADDRESS': 'unix:path=/run/user/1000/bus,guid=67f9162c3b19eb1231275da86698c592', 'DBUS_STARTER_BUS_TYPE': 'session', 'DESKTOP_SESSION': 'ubuntu', 'DISPLAY': ':0', 'ELECTRON_NO_ATTACH_CONSOLE': '1', 'ENV': '/usr/share/modules/init/profile.sh', 'GDK_BACKEND': 'x11', 'GDMSESSION': 'ubuntu', 'GIO_LAUNCHED_DESKTOP_FILE': '/usr/share/applications/code.desktop', 'GIO_LAUNCHED_DESKTOP_FILE_PID': '8702', 'GJS_DEBUG_OUTPUT': 'stderr', 'GJS_DEBUG_TOPICS': 'JS ERROR;JS LOG', 'GNOME_DESKTOP_SESSION_ID': 'this-is-deprecated', 'GNOME_SHELL_SESSION_MODE': 'ubuntu', 'GNOME_TERMINAL_SCREEN': '/org/gnome/Terminal/screen/94d58910_6d48_4c42_9c5e_9ee20f2bc714', 'GNOME_TERMINAL_SERVICE': ':1.26814', 'GPG_AGENT_INFO': '/run/user/1000/gnupg/S.gpg-agent:0:1', 'GTK_IM_MODULE': 'fcitx', 'GTK_MODULES': 'gail:atk-bridge', 'HOME': '/home/tipriest', 'HTTPS_PROXY': 'http://127.0.0.1:7890/', 'HTTP_PROXY': 'http://127.0.0.1:7890/', 'IM_CONFIG_PHASE': '1', 'INVOCATION_ID': '803cc371401a4c5fbb2970d02126e9af', 'JOURNAL_STREAM': '8:50854', 'LANG': 'en_US.UTF-8', 'LANGUAGE': 'en_US:en', 'LC_ADDRESS': 'zh_CN.UTF-8', 'LC_IDENTIFICATION': 'zh_CN.UTF-8', 'LC_MEASUREMENT': 'zh_CN.UTF-8', 'LC_MONETARY': 'zh_CN.UTF-8', 'LC_NAME': 'zh_CN.UTF-8', 'LC_NUMERIC': 'zh_CN.UTF-8', 'LC_PAPER': 'zh_CN.UTF-8', 'LC_TELEPHONE': 'zh_CN.UTF-8', 'LC_TIME': 'zh_CN.UTF-8', 'LESS': '-R', 'LOGNAME': 'tipriest', 'LSCOLORS': 'Gxfxcxdxbxegedabagacad', 'LS_COLORS': 'rs=0:di=01;34:ln=01;36:mh=00:pi=40;33:so=01;35:do=01;35:bd=40;33;01:cd=40;33;01:or=40;31;01:mi=00:su=37;41:sg=30;43:ca=30;41:tw=30;42:ow=34;42:st=37;44:ex=01;32:*.tar=01;31:*.tgz=01;31:*.arc=01;31:*.arj=01;31:*.taz=01;31:*.lha=01;31:*.lz4=01;31:*.lzh=01;31:*.lzma=01;31:*.tlz=01;31:*.txz=01;31:*.tzo=01;31:*.t7z=01;31:*.zip=01;31:*.z=01;31:*.dz=01;31:*.gz=01;31:*.lrz=01;31:*.lz=01;31:*.lzo=01;31:*.xz=01;31:*.zst=01;31:*.tzst=01;31:*.bz2=01;31:*.bz=01;31:*.tbz=01;31:*.tbz2=01;31:*.tz=01;31:*.deb=01;31:*.rpm=01;31:*.jar=01;31:*.war=01;31:*.ear=01;31:*.sar=01;31:*.rar=01;31:*.alz=01;31:*.ace=01;31:*.zoo=01;31:*.cpio=01;31:*.7z=01;31:*.rz=01;31:*.cab=01;31:*.wim=01;31:*.swm=01;31:*.dwm=01;31:*.esd=01;31:*.jpg=01;35:*.jpeg=01;35:*.mjpg=01;35:*.mjpeg=01;35:*.gif=01;35:*.bmp=01;35:*.pbm=01;35:*.pgm=01;35:*.ppm=01;35:*.tga=01;35:*.xbm=01;35:*.xpm=01;35:*.tif=01;35:*.tiff=01;35:*.png=01;35:*.svg=01;35:*.svgz=01;35:*.mng=01;35:*.pcx=01;35:*.mov=01;35:*.mpg=01;35:*.mpeg=01;35:*.m2v=01;35:*.mkv=01;35:*.webm=01;35:*.ogm=01;35:*.mp4=01;35:*.m4v=01;35:*.mp4v=01;35:*.vob=01;35:*.qt=01;35:*.nuv=01;35:*.wmv=01;35:*.asf=01;35:*.rm=01;35:*.rmvb=01;35:*.flc=01;35:*.avi=01;35:*.fli=01;35:*.flv=01;35:*.gl=01;35:*.dl=01;35:*.xcf=01;35:*.xwd=01;35:*.yuv=01;35:*.cgm=01;35:*.emf=01;35:*.ogv=01;35:*.ogx=01;35:*.aac=00;36:*.au=00;36:*.flac=00;36:*.m4a=00;36:*.mid=00;36:*.midi=00;36:*.mka=00;36:*.mp3=00;36:*.mpc=00;36:*.ogg=00;36:*.ra=00;36:*.wav=00;36:*.oga=00;36:*.opus=00;36:*.spx=00;36:*.xspf=00;36:', 'MANAGERPID': '1514', 'MANPATH': ':', 'MODULEPATH': '/etc/environment-modules/modules:/usr/share/modules/versions:/usr/share/modules/$MODULE_VERSION/modulefiles:/usr/share/modules/modulefiles', 'MODULEPATH_modshare': '/etc/environment-modules/modules:1:/usr/share/modules/$MODULE_VERSION/modulefiles:1:/usr/share/modules/modulefiles:1:/usr/share/modules/versions:1', 'MODULESHOME': '/usr/share/modules', 'MODULES_CMD': '/usr/lib/x86_64-linux-gnu/modulecmd.tcl', 'NO_AT_BRIDGE': '1', 'NO_PROXY': 'localhost,127.0.0.0/8,::1', 'OLDPWD': '/home/tipriest/Documents/AlgorithmPractice', 'ORIGINAL_XDG_CURRENT_DESKTOP': 'ubuntu:GNOME', 'PAGER': 'cat', 'PAPERSIZE': 'a4', 'PATH': '/bin:/usr/share/cmake-3.25.0-linux-x86_64/bin:/home/tipriest/.local/bin:/usr/local/sbin:/usr/local/bin:/usr/sbin:/usr/bin:/sbin:/bin:/usr/games:/usr/local/games:/snap/bin:/usr/share/cmake-3.25.0-linux-x86_64/bin:/home/tipriest/.local/bin:/usr/local/sbin:/usr/local/bin:/usr/sbin:/usr/bin:/sbin:/bin:/usr/games:/usr/local/games:/snap/bin', 'PWD': '/home/tipriest/Documents/AlgorithmPractice', 'QT4_IM_MODULE': 'fcitx', 'QT_ACCESSIBILITY': '1', 'QT_IM_MODULE': 'fcitx', 'SESSION_MANAGER': 'local/Engine:@/tmp/.ICE-unix/1666,unix/Engine:/tmp/.ICE-unix/1666', 'SHELL': '/usr/bin/zsh', 'SHLVL': '1', 'SSH_AGENT_PID': '1622', 'SSH_AUTH_SOCK': '/run/user/1000/keyring/ssh', 'TERM': 'xterm-color', 'USER': 'tipriest', 'USERNAME': 'tipriest', 'VSCODE_AMD_ENTRYPOINT': 'vs/workbench/api/node/extensionHostProcess', 'VSCODE_CLI': '1', 'VSCODE_CODE_CACHE_PATH': '/home/tipriest/.config/Code/CachedData/dc96b837cf6bb4af9cd736aa3af08cf8279f7685', 'VSCODE_CRASH_REPORTER_PROCESS_TYPE': 'extensionHost', 'VSCODE_CWD': '/home/tipriest/Documents/AlgorithmPractice', 'VSCODE_HANDLES_UNCAUGHT_ERRORS': 'true', 'VSCODE_IPC_HOOK': '/run/user/1000/vscode-9a5b5f2a-1.89-main.sock', 'VSCODE_NLS_CONFIG': '{\"locale\":\"en\",\"osLocale\":\"en-us\",\"availableLanguages\":{},\"_languagePackSupport\":true}', 'VSCODE_PID': '8702', 'VTE_VERSION': '6003', 'WINDOWPATH': '2', 'XAUTHORITY': '/run/user/1000/gdm/Xauthority', 'XDG_CONFIG_DIRS': '/etc/xdg/xdg-ubuntu:/etc/xdg', 'XDG_CURRENT_DESKTOP': 'Unity', 'XDG_DATA_DIRS': '/usr/share/ubuntu:/usr/local/share/:/usr/share/:/var/lib/snapd/desktop', 'XDG_MENU_PREFIX': 'gnome-', 'XDG_RUNTIME_DIR': '/run/user/1000', 'XDG_SESSION_CLASS': 'user', 'XDG_SESSION_DESKTOP': 'ubuntu', 'XDG_SESSION_TYPE': 'x11', 'XMODIFIERS': '@im=fcitx', 'ZSH': '/home/tipriest/.oh-my-zsh', '_': '/usr/bin/code', 'http_proxy': 'http://127.0.0.1:7890/', 'https_proxy': 'http://127.0.0.1:7890/', 'no_proxy': 'localhost,127.0.0.0/8,::1', 'ELECTRON_RUN_AS_NODE': '1', 'APPLICATION_INSIGHTS_NO_DIAGNOSTIC_CHANNEL': '1', 'VSCODE_L10N_BUNDLE_LOCATION': '', 'PYDEVD_IPYTHON_COMPATIBLE_DEBUGGING': '1', 'PYTHONUNBUFFERED': '1', 'PYTHONIOENCODING': 'utf-8', 'PYTHON_FROZEN_MODULES': 'on', 'PYDEVD_USE_FRAME_EVAL': 'NO', 'CLICOLOR': '1', 'FORCE_COLOR': '1', 'CLICOLOR_FORCE': '1', 'GIT_PAGER': 'cat', 'MPLBACKEND': 'module://matplotlib_inline.backend_inline'})\n",
      "/home/tipriest/Documents/AlgorithmPractice/src/pythonTest/ch8 standard lib\n",
      "PING 127.0.0.1 (127.0.0.1) 56(84) bytes of data.\n",
      "64 bytes from 127.0.0.1: icmp_seq=1 ttl=64 time=0.013 ms\n",
      "64 bytes from 127.0.0.1: icmp_seq=2 ttl=64 time=0.014 ms\n",
      "64 bytes from 127.0.0.1: icmp_seq=3 ttl=64 time=0.015 ms\n",
      "64 bytes from 127.0.0.1: icmp_seq=4 ttl=64 time=0.015 ms\n",
      "64 bytes from 127.0.0.1: icmp_seq=5 ttl=64 time=0.017 ms\n",
      "64 bytes from 127.0.0.1: icmp_seq=6 ttl=64 time=0.027 ms\n",
      "64 bytes from 127.0.0.1: icmp_seq=7 ttl=64 time=0.021 ms\n",
      "64 bytes from 127.0.0.1: icmp_seq=8 ttl=64 time=0.020 ms\n",
      "64 bytes from 127.0.0.1: icmp_seq=9 ttl=64 time=0.017 ms\n",
      "64 bytes from 127.0.0.1: icmp_seq=10 ttl=64 time=0.019 ms\n",
      "64 bytes from 127.0.0.1: icmp_seq=11 ttl=64 time=0.022 ms\n",
      "64 bytes from 127.0.0.1: icmp_seq=12 ttl=64 time=0.020 ms\n",
      "64 bytes from 127.0.0.1: icmp_seq=13 ttl=64 time=0.026 ms\n",
      "64 bytes from 127.0.0.1: icmp_seq=14 ttl=64 time=0.027 ms\n",
      "64 bytes from 127.0.0.1: icmp_seq=15 ttl=64 time=0.020 ms\n",
      "64 bytes from 127.0.0.1: icmp_seq=16 ttl=64 time=0.023 ms\n",
      "64 bytes from 127.0.0.1: icmp_seq=17 ttl=64 time=0.017 ms\n",
      "64 bytes from 127.0.0.1: icmp_seq=18 ttl=64 time=0.018 ms\n",
      "64 bytes from 127.0.0.1: icmp_seq=19 ttl=64 time=0.022 ms\n",
      "64 bytes from 127.0.0.1: icmp_seq=20 ttl=64 time=0.023 ms\n"
     ]
    }
   ],
   "source": [
    "import os\n",
    "print(os.environ)\n",
    "print(os.getcwd())\n",
    "print(os.system('ping 127.0.0.1'))\n",
    "print(os.urandom(10)) #返回一串适合加密的n字节大小的随机字符串"
   ]
  },
  {
   "cell_type": "markdown",
   "metadata": {},
   "source": [
    "### SYS模块"
   ]
  },
  {
   "cell_type": "code",
   "execution_count": 2,
   "metadata": {},
   "outputs": [
    {
     "name": "stdout",
     "output_type": "stream",
     "text": [
      "/usr/lib/python38.zip\n",
      "/usr/lib/python3.8\n",
      "/usr/lib/python3.8/lib-dynload\n",
      "\n",
      "/home/tipriest/.local/lib/python3.8/site-packages\n",
      "/usr/local/lib/python3.8/dist-packages\n",
      "/usr/lib/python3/dist-packages\n",
      "linux\n",
      "use linux's version code\n"
     ]
    },
    {
     "ename": "AttributeError",
     "evalue": "module 'sys' has no attribute 'getwindowsversion'",
     "output_type": "error",
     "traceback": [
      "\u001b[0;31m---------------------------------------------------------------------------\u001b[0m",
      "\u001b[0;31mAttributeError\u001b[0m                            Traceback (most recent call last)",
      "Cell \u001b[0;32mIn[2], line 9\u001b[0m\n\u001b[1;32m      7\u001b[0m \u001b[38;5;28;01melif\u001b[39;00m sys\u001b[38;5;241m.\u001b[39mplatform\u001b[38;5;241m.\u001b[39mstartswith(\u001b[38;5;124m'\u001b[39m\u001b[38;5;124mlinux\u001b[39m\u001b[38;5;124m'\u001b[39m):\n\u001b[1;32m      8\u001b[0m     \u001b[38;5;28mprint\u001b[39m(\u001b[38;5;124m\"\u001b[39m\u001b[38;5;124muse linux\u001b[39m\u001b[38;5;124m'\u001b[39m\u001b[38;5;124ms version code\u001b[39m\u001b[38;5;124m\"\u001b[39m)\n\u001b[0;32m----> 9\u001b[0m \u001b[38;5;28mprint\u001b[39m(\u001b[43msys\u001b[49m\u001b[38;5;241;43m.\u001b[39;49m\u001b[43mgetwindowsversion\u001b[49m())\n",
      "\u001b[0;31mAttributeError\u001b[0m: module 'sys' has no attribute 'getwindowsversion'"
     ]
    }
   ],
   "source": [
    "import sys\n",
    "for i in sys.path:\n",
    "    print(i)\n",
    "print(sys.platform)\n",
    "if sys.platform.startswith('win32'):\n",
    "    print(\"use windows's version code\")\n",
    "elif sys.platform.startswith('linux'):\n",
    "    print(\"use linux's version code\")\n",
    "print(sys.getwindowsversion())\n"
   ]
  },
  {
   "cell_type": "markdown",
   "metadata": {},
   "source": [
    "### time模块"
   ]
  },
  {
   "cell_type": "code",
   "execution_count": 3,
   "metadata": {},
   "outputs": [
    {
     "name": "stdout",
     "output_type": "stream",
     "text": [
      "1.0011197079438716\n",
      "01时:04分:06秒\n",
      "1722877446.1843266\n"
     ]
    }
   ],
   "source": [
    "import time\n",
    "t1 = time.perf_counter()\n",
    "time.sleep(1) #暂停所执行的调用线程到指定的秒数\n",
    "t2 = time.perf_counter()\n",
    "print(t2-t1)\n",
    "print(time.strftime(\"%H时:%M分:%S秒\"))\n",
    "print(time.time()) #自1970年1月1日00:00开始的秒数"
   ]
  }
 ],
 "metadata": {
  "kernelspec": {
   "display_name": "Python 3",
   "language": "python",
   "name": "python3"
  },
  "language_info": {
   "codemirror_mode": {
    "name": "ipython",
    "version": 3
   },
   "file_extension": ".py",
   "mimetype": "text/x-python",
   "name": "python",
   "nbconvert_exporter": "python",
   "pygments_lexer": "ipython3",
   "version": "3.11.1"
  }
 },
 "nbformat": 4,
 "nbformat_minor": 2
}

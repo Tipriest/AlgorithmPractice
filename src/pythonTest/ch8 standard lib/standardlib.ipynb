{
 "cells": [
  {
   "cell_type": "markdown",
   "metadata": {},
   "source": [
    "### datetime模块"
   ]
  },
  {
   "cell_type": "code",
   "execution_count": 14,
   "metadata": {},
   "outputs": [
    {
     "name": "stdout",
     "output_type": "stream",
     "text": [
      "2024-08-05 20:32:52.778930\n",
      "2024-08-05\n",
      "20:32:52.778988\n",
      "Mon Aug  5 20:32:52 2024\n",
      "2024-08-05 12:32:52.779068\n",
      "1722861172.778988\n",
      "2024-08-05 20:32:52.778988\n",
      "2018-02-12 20:53:48\n",
      "2018-02-12 20:59:00\n",
      "2024\n",
      "8\n",
      "5\n",
      "20\n",
      "32\n",
      "52\n",
      "0\n",
      "218\n",
      "-1\n",
      "(2024, 32, 1)\n",
      "2024年08月05日 20：32:52 PM\n"
     ]
    }
   ],
   "source": [
    "from datetime import datetime, date, time\n",
    "print(datetime.now())\n",
    "today = datetime.now()\n",
    "print(datetime.date(today))\n",
    "print(datetime.time(today))\n",
    "print(datetime.ctime(today))\n",
    "print(datetime.utcnow())\n",
    "print(datetime.timestamp(today))\n",
    "print(datetime.fromtimestamp(datetime.timestamp(today)))\n",
    "date1 = date(2018, 2, 12)\n",
    "time1 = time(20, 53, 48)\n",
    "print(datetime.combine(date1, time1))\n",
    "newDatetime = datetime.strptime(\"12/2/18 20:59\",'%d/%m/%y %H:%M')\n",
    "print(newDatetime)\n",
    "for tv in datetime.timetuple(today):\n",
    "    print(tv)\n",
    "print(today.isocalendar())\n",
    "print(today.strftime(\"%Y年%m月%d日 %H：%M:%S %p\"))"
   ]
  },
  {
   "cell_type": "markdown",
   "metadata": {},
   "source": [
    "## math模块"
   ]
  },
  {
   "cell_type": "code",
   "execution_count": 22,
   "metadata": {},
   "outputs": [
    {
     "name": "stdout",
     "output_type": "stream",
     "text": [
      "3\n",
      "4\n",
      "3\n",
      "6.0\n",
      "6\n",
      "6.0\n",
      "0.5\n",
      "0.5\n"
     ]
    }
   ],
   "source": [
    "import math\n",
    "print(math.trunc(3.90))   #向下取整\n",
    "print(math.ceil(3.23))    #向上取整\n",
    "print(round(3.49))        #四舍五入\n",
    "t_nums = (1,2,3)\n",
    "print(math.fsum(t_nums))\n",
    "print(sum(t_nums))\n",
    "l_nums = [1,2,3]\n",
    "print(math.fsum(l_nums))\n",
    "print(math.fabs(-0.5))\n",
    "print(abs(-0.5))"
   ]
  },
  {
   "cell_type": "markdown",
   "metadata": {},
   "source": [
    "## random模块"
   ]
  },
  {
   "cell_type": "markdown",
   "metadata": {},
   "source": [
    "生成随机数计算均值，正态(高斯)分布，对数正态分布，伽马(Gamma)分布和贝塔(Beta)分布"
   ]
  },
  {
   "cell_type": "code",
   "execution_count": null,
   "metadata": {},
   "outputs": [],
   "source": [
    "import random\n",
    "print(random.random())\n",
    "print(random.uniform(1,10))\n",
    "print(random.triangular(1,10,7))\n",
    "print(random.betavariate())"
   ]
  }
 ],
 "metadata": {
  "kernelspec": {
   "display_name": "Python 3",
   "language": "python",
   "name": "python3"
  },
  "language_info": {
   "codemirror_mode": {
    "name": "ipython",
    "version": 3
   },
   "file_extension": ".py",
   "mimetype": "text/x-python",
   "name": "python",
   "nbconvert_exporter": "python",
   "pygments_lexer": "ipython3",
   "version": "3.8.10"
  }
 },
 "nbformat": 4,
 "nbformat_minor": 2
}

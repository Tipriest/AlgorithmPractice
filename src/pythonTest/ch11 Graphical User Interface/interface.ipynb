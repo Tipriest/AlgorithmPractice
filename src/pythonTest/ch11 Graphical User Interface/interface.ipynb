{
 "cells": [
  {
   "cell_type": "markdown",
   "metadata": {},
   "source": [
    "目前主流的GUI开发包，有tkinter,PyGObject,PyGTK,PyQt,PySide,wxPython等一系列"
   ]
  },
  {
   "cell_type": "markdown",
   "metadata": {},
   "source": [
    "### tkinter开发包"
   ]
  },
  {
   "cell_type": "code",
   "execution_count": 6,
   "metadata": {},
   "outputs": [],
   "source": [
    "# 对于linux的一些发行版，可能需要自己安装tkinter模块，使用 sudo apt-get install python3-tk 即可\n",
    "import tkinter\n",
    "import sys\n",
    "import os\n",
    "MainForm = tkinter.Tk()                                                      #创建窗体实例\n",
    "MainForm.geometry(\"250x150\")                                                 #设置窗体物理大小(长*高)\n",
    "MainForm.title(\"User Interface\")\n",
    "# 可以使用imagemagick小工具将.png文件转换为.xpm文件\n",
    "# MainForm.iconbitmap(os.path.join(os.getcwd(), \"icon\", \"icon.ico\"))\n",
    "if sys.platform.startswith('win32'):\n",
    "    MainForm.iconbitmap(os.path.join(os.getcwd(), \"icon\", \"icon.ico\"))\n",
    "elif sys.platform.startswith('linux'):\n",
    "    # 目前这段添加窗口logo的代码仅在windows平台下是正常的\n",
    "    # MainForm.iconbitmap(os.path.join(os.getcwd(), \"icon\", \"icon.xpm\"))\n",
    "    pass\n",
    "MainForm['background'] = 'LightSlateGray'                                     #改变窗体背景颜色\n",
    "\n",
    "btn1 = tkinter.Button(MainForm, text=\"退出\", fg = \"black\")\n",
    "btn1.config(fg = \"black\", bg = \"white\")\n",
    "btn1.pack()                                                                   #pack方法将btn1按钮放在窗体上\n",
    "\n",
    "# MainForm.iconphoto(True, iconPhoto)\n",
    "MainForm.mainloop()                                                            #启动窗体运行，并等待接收各种事件信息\n",
    "\n"
   ]
  },
  {
   "cell_type": "markdown",
   "metadata": {},
   "source": [
    "当窗体，组件的属性具有多值选项时，可以采用多种方法设置属性值，如颜色是red,balck,green时，可以采用三种方法设定属性值"
   ]
  },
  {
   "cell_type": "markdown",
   "metadata": {},
   "source": [
    "(1)在创建对象后，将选项名称设为字典索引，MainForm['background'] = 'LightSlateGray'  "
   ]
  },
  {
   "cell_type": "markdown",
   "metadata": {},
   "source": [
    "(2)在创建对象时，使用关键字参数，btn1 = tkinter.Button(MainForm, text=\"退出\", fg = \"black\")"
   ]
  },
  {
   "cell_type": "markdown",
   "metadata": {},
   "source": [
    "(3)使用config方法更新对象创建后的多个属性，btn1.config(fg = \"black\", bg = \"white\")"
   ]
  },
  {
   "cell_type": "markdown",
   "metadata": {},
   "source": [
    "### 使用bind()方法进行事件处理"
   ]
  }
 ],
 "metadata": {
  "kernelspec": {
   "display_name": "Python 3",
   "language": "python",
   "name": "python3"
  },
  "language_info": {
   "codemirror_mode": {
    "name": "ipython",
    "version": 3
   },
   "file_extension": ".py",
   "mimetype": "text/x-python",
   "name": "python",
   "nbconvert_exporter": "python",
   "pygments_lexer": "ipython3",
   "version": "3.8.10"
  }
 },
 "nbformat": 4,
 "nbformat_minor": 2
}

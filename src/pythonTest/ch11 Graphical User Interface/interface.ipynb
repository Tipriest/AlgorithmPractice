{
 "cells": [
  {
   "cell_type": "markdown",
   "metadata": {},
   "source": [
    "目前主流的GUI开发包，有tkinter,PyGObject,PyGTK,PyQt,PySide,wxPython等一系列"
   ]
  },
  {
   "cell_type": "markdown",
   "metadata": {},
   "source": [
    "### tkinter开发包"
   ]
  },
  {
   "cell_type": "code",
   "execution_count": 21,
   "metadata": {},
   "outputs": [
    {
     "name": "stdout",
     "output_type": "stream",
     "text": [
      "linux\n"
     ]
    },
    {
     "ename": "TclError",
     "evalue": "bitmap \"/home/tipriest/Documents/AlgorithmPractice/src/pythonTest/ch11\\ Graphical\\ User\\ Interface/icon/icon.xpm\" not defined",
     "output_type": "error",
     "traceback": [
      "\u001b[0;31m---------------------------------------------------------------------------\u001b[0m",
      "\u001b[0;31mTclError\u001b[0m                                  Traceback (most recent call last)",
      "Cell \u001b[0;32mIn[21], line 14\u001b[0m\n\u001b[1;32m     12\u001b[0m     MainForm\u001b[38;5;241m.\u001b[39miconbitmap(os\u001b[38;5;241m.\u001b[39mpath\u001b[38;5;241m.\u001b[39mjoin(os\u001b[38;5;241m.\u001b[39mgetcwd(), \u001b[38;5;124m\"\u001b[39m\u001b[38;5;124micon\u001b[39m\u001b[38;5;124m\"\u001b[39m, \u001b[38;5;124m\"\u001b[39m\u001b[38;5;124micon.ico\u001b[39m\u001b[38;5;124m\"\u001b[39m))\n\u001b[1;32m     13\u001b[0m \u001b[38;5;28;01melif\u001b[39;00m sys\u001b[38;5;241m.\u001b[39mplatform\u001b[38;5;241m.\u001b[39mstartswith(\u001b[38;5;124m'\u001b[39m\u001b[38;5;124mlinux\u001b[39m\u001b[38;5;124m'\u001b[39m):\n\u001b[0;32m---> 14\u001b[0m     \u001b[43mMainForm\u001b[49m\u001b[38;5;241;43m.\u001b[39;49m\u001b[43miconbitmap\u001b[49m\u001b[43m(\u001b[49m\u001b[38;5;124;43m'\u001b[39;49m\u001b[38;5;124;43m/home/tipriest/Documents/AlgorithmPractice/src/pythonTest/ch11\u001b[39;49m\u001b[38;5;124;43m\\\u001b[39;49m\u001b[38;5;124;43m Graphical\u001b[39;49m\u001b[38;5;124;43m\\\u001b[39;49m\u001b[38;5;124;43m User\u001b[39;49m\u001b[38;5;124;43m\\\u001b[39;49m\u001b[38;5;124;43m Interface/icon/icon.xpm\u001b[39;49m\u001b[38;5;124;43m'\u001b[39;49m\u001b[43m)\u001b[49m\n\u001b[1;32m     17\u001b[0m \u001b[38;5;66;03m# MainForm.iconphoto(True, iconPhoto)\u001b[39;00m\n\u001b[1;32m     18\u001b[0m MainForm\u001b[38;5;241m.\u001b[39mmainloop()           \u001b[38;5;66;03m#启动窗体运行，并等待接收各种事件信息\u001b[39;00m\n",
      "File \u001b[0;32m/usr/lib/python3.8/tkinter/__init__.py:2080\u001b[0m, in \u001b[0;36mWm.wm_iconbitmap\u001b[0;34m(self, bitmap, default)\u001b[0m\n\u001b[1;32m   2078\u001b[0m     \u001b[38;5;28;01mreturn\u001b[39;00m \u001b[38;5;28mself\u001b[39m\u001b[38;5;241m.\u001b[39mtk\u001b[38;5;241m.\u001b[39mcall(\u001b[38;5;124m'\u001b[39m\u001b[38;5;124mwm\u001b[39m\u001b[38;5;124m'\u001b[39m, \u001b[38;5;124m'\u001b[39m\u001b[38;5;124miconbitmap\u001b[39m\u001b[38;5;124m'\u001b[39m, \u001b[38;5;28mself\u001b[39m\u001b[38;5;241m.\u001b[39m_w, \u001b[38;5;124m'\u001b[39m\u001b[38;5;124m-default\u001b[39m\u001b[38;5;124m'\u001b[39m, default)\n\u001b[1;32m   2079\u001b[0m \u001b[38;5;28;01melse\u001b[39;00m:\n\u001b[0;32m-> 2080\u001b[0m     \u001b[38;5;28;01mreturn\u001b[39;00m \u001b[38;5;28;43mself\u001b[39;49m\u001b[38;5;241;43m.\u001b[39;49m\u001b[43mtk\u001b[49m\u001b[38;5;241;43m.\u001b[39;49m\u001b[43mcall\u001b[49m\u001b[43m(\u001b[49m\u001b[38;5;124;43m'\u001b[39;49m\u001b[38;5;124;43mwm\u001b[39;49m\u001b[38;5;124;43m'\u001b[39;49m\u001b[43m,\u001b[49m\u001b[43m \u001b[49m\u001b[38;5;124;43m'\u001b[39;49m\u001b[38;5;124;43miconbitmap\u001b[39;49m\u001b[38;5;124;43m'\u001b[39;49m\u001b[43m,\u001b[49m\u001b[43m \u001b[49m\u001b[38;5;28;43mself\u001b[39;49m\u001b[38;5;241;43m.\u001b[39;49m\u001b[43m_w\u001b[49m\u001b[43m,\u001b[49m\u001b[43m \u001b[49m\u001b[43mbitmap\u001b[49m\u001b[43m)\u001b[49m\n",
      "\u001b[0;31mTclError\u001b[0m: bitmap \"/home/tipriest/Documents/AlgorithmPractice/src/pythonTest/ch11\\ Graphical\\ User\\ Interface/icon/icon.xpm\" not defined"
     ]
    }
   ],
   "source": [
    "# 对于linux的一些发行版，可能需要自己安装tkinter模块，使用 sudo apt-get install python3-tk 即可\n",
    "import tkinter\n",
    "import sys\n",
    "import os\n",
    "MainForm = tkinter.Tk()       #创建窗体实例\n",
    "MainForm.geometry(\"250x150\")  #设置窗体物理大小(长*高)\n",
    "MainForm.title(\"User Interface\")\n",
    "# 可以使用imagemagick小工具将.png文件转换为.xpm文件\n",
    "print(sys.platform)\n",
    "# MainForm.iconbitmap(os.path.join(os.getcwd(), \"icon\", \"icon.ico\"))\n",
    "if sys.platform.startswith('win32'):\n",
    "    MainForm.iconbitmap(os.path.join(os.getcwd(), \"icon\", \"icon.ico\"))\n",
    "elif sys.platform.startswith('linux'):\n",
    "    MainForm.iconbitmap(os.path.join(os.getcwd(), \"icon\", \"icon.xpm\"))\n",
    "\n",
    "\n",
    "# MainForm.iconphoto(True, iconPhoto)\n",
    "MainForm.mainloop()           #启动窗体运行，并等待接收各种事件信息\n",
    "\n"
   ]
  }
 ],
 "metadata": {
  "kernelspec": {
   "display_name": "Python 3",
   "language": "python",
   "name": "python3"
  },
  "language_info": {
   "codemirror_mode": {
    "name": "ipython",
    "version": 3
   },
   "file_extension": ".py",
   "mimetype": "text/x-python",
   "name": "python",
   "nbconvert_exporter": "python",
   "pygments_lexer": "ipython3",
   "version": "3.8.10"
  }
 },
 "nbformat": 4,
 "nbformat_minor": 2
}

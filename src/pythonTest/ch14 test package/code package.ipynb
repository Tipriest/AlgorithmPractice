{
 "cells": [
  {
   "cell_type": "markdown",
   "metadata": {},
   "source": [
    "### 代码打包"
   ]
  },
  {
   "cell_type": "markdown",
   "metadata": {},
   "source": [
    "在Python中需要打包的对象主要分为三种类型的模块(Module)：纯Python模块,扩展模块和包\n",
    "1. 纯Python模块\n",
    "一个用Python编写的代码模块, 包含在一个.py文件中(可能还有关联的.pyc文件)。有时被称为纯模块，这是到目前为止，接触最多的一类模块\n",
    "2. 扩展模块\n",
    "用C,C++语言编写的Python程序可以调用的模块, 在Jython解释器环境下,可以调用Java编写的模块。通常包含在单个可动态加载的预编译文件中，如UNIX上的Python扩展的共享对象(.so)文件，Windows上的Python扩展的DLL(给定.pyd扩展名)或Jython扩展的Java类文件\n",
    "3. 包: 一个包括其他模块的模块，通常包含在文件系统的一个目录中，并通过文件__init__.py的存在区别于其他目录"
   ]
  },
  {
   "cell_type": "code",
   "execution_count": null,
   "metadata": {},
   "outputs": [],
   "source": [
    "import math\n",
    "def showMsg(a):\n",
    "    return a*a*a\n",
    "a = 10\n",
    "print(\"%d的三次方是%d\"%(a, showMsg(a)))"
   ]
  }
 ],
 "metadata": {
  "kernelspec": {
   "display_name": "algorithmPractice",
   "language": "python",
   "name": "python3"
  },
  "language_info": {
   "codemirror_mode": {
    "name": "ipython",
    "version": 3
   },
   "file_extension": ".py",
   "mimetype": "text/x-python",
   "name": "python",
   "nbconvert_exporter": "python",
   "pygments_lexer": "ipython3",
   "version": "3.8.19"
  }
 },
 "nbformat": 4,
 "nbformat_minor": 2
}

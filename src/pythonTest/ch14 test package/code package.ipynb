{
 "cells": [
  {
   "cell_type": "markdown",
   "metadata": {},
   "source": [
    "### 代码打包"
   ]
  },
  {
   "cell_type": "markdown",
   "metadata": {},
   "source": [
    "在Python中需要打包的对象主要分为三种类型的模块(Module)：纯Python模块,扩展模块和包\n",
    "1. 纯Python模块\n",
    "一个用Python编写的代码模块, 包含在一个.py文件中(可能还有关联的.pyc文件)。有时被称为纯模块，这是到目前为止，接触最多的一类模块\n",
    "2. 扩展模块\n",
    "用C,C++语言编写的Python程序可以调用的模块, 在Jython解释器环境下,可以调用Java编写的模块。通常包含在单个可动态加载的预编译文件中，如UNIX上的Python扩展的共享对象(.so)文件，Windows上的Python扩展的DLL(给定.pyd扩展名)或Jython扩展的Java类文件\n",
    "3. 包: 一个包括其他模块的模块，通常包含在文件系统的一个目录中，并通过文件__init__.py的存在区别于其他目录"
   ]
  },
  {
   "cell_type": "code",
   "execution_count": 8,
   "metadata": {},
   "outputs": [
    {
     "name": "stdout",
     "output_type": "stream",
     "text": [
      "10的三次方是1000\n"
     ]
    }
   ],
   "source": [
    "import math\n",
    "def showMsg(a):\n",
    "    return a*a*a\n",
    "a = 10\n",
    "print(\"%d的三次方是%d\"%(a, showMsg(a)))"
   ]
  },
  {
   "cell_type": "code",
   "execution_count": 11,
   "metadata": {},
   "outputs": [],
   "source": [
    "import setupFile\n",
    "# 可以看一下重启之后这个setupFile还是否存在在环境中\n",
    "# 是存在的，是直接安装在环境下的，但是不知道为什么输出只有一次"
   ]
  },
  {
   "cell_type": "markdown",
   "metadata": {},
   "source": [
    "扩展打包与安装，对于C、C++、Java等编写的第三方扩展模块与Python模块一起打包时，需要做一些额外的处理，主要指定扩展名，扩展源码文件名以及任何编译，链接要求(包括目录，链接库等)"
   ]
  },
  {
   "cell_type": "markdown",
   "metadata": {},
   "source": [
    "这些扩展模块的参数是通过setup()函数的参数ext_modules选项完成的，在以上案例的基础上修改setup脚本文件，假设在同一路径下增加名为data.c的C语言编写的代码模块文件，需要和setupFile,py一起打包，可以采用如下脚本方式："
   ]
  },
  {
   "cell_type": "code",
   "execution_count": null,
   "metadata": {},
   "outputs": [],
   "source": [
    "from distutils.core import setup, Extension\n",
    "setup(\n",
    "    name='setupFile',\n",
    "    version='1.0',\n",
    "    py_modules=['setupFile'],\n",
    "    ext_modules=[Extension('data', ['data.c'])]    #指定扩展模块参数\n",
    ")"
   ]
  },
  {
   "cell_type": "markdown",
   "metadata": {},
   "source": [
    "### 编写安装过程配置文件"
   ]
  },
  {
   "cell_type": "markdown",
   "metadata": {},
   "source": [
    "安装过程的配置要求是复杂多样的，关于安装地址，安装哪些组件，安装后的一些系统操作等等，这些需要为setup函数的运行提供可选项的配置文件资源，这个配置文件叫setup.cfg, 用户可以通过修改该配置文件进行安装选项的设置，使安装过程更加灵活，同时避免参数固定在安装包不灵活的问题"
   ]
  }
 ],
 "metadata": {
  "kernelspec": {
   "display_name": "algorithmPractice",
   "language": "python",
   "name": "python3"
  },
  "language_info": {
   "codemirror_mode": {
    "name": "ipython",
    "version": 3
   },
   "file_extension": ".py",
   "mimetype": "text/x-python",
   "name": "python",
   "nbconvert_exporter": "python",
   "pygments_lexer": "ipython3",
   "version": "3.8.19"
  }
 },
 "nbformat": 4,
 "nbformat_minor": 2
}

{
 "cells": [
  {
   "cell_type": "markdown",
   "metadata": {},
   "source": [
    "### 代码测试"
   ]
  },
  {
   "cell_type": "markdown",
   "metadata": {},
   "source": [
    "##### 嵌入式测试"
   ]
  },
  {
   "cell_type": "code",
   "execution_count": 12,
   "metadata": {},
   "outputs": [
    {
     "name": "stdout",
     "output_type": "stream",
     "text": [
      "**********************************************************************\n",
      "File \"__main__\", line 7, in __main__.sums\n",
      "Failed example:\n",
      "    sums('a',1,2,3,4)\n",
      "Exception raised:\n",
      "    Traceback (most recent call last):\n",
      "      File \"/home/tipriest/anaconda3/envs/algorithmPractice/lib/python3.8/doctest.py\", line 1336, in __run\n",
      "        exec(compile(example.source, filename, \"single\",\n",
      "      File \"<doctest __main__.sums[1]>\", line 1, in <module>\n",
      "        sums('a',1,2,3,4)\n",
      "      File \"/tmp/ipykernel_3478/284069808.py\", line 10, in sums\n",
      "        total = math.trunc(sum(num))\n",
      "    TypeError: unsupported operand type(s) for +: 'int' and 'str'\n",
      "**********************************************************************\n",
      "1 items had failures:\n",
      "   1 of   2 in __main__.sums\n",
      "***Test Failed*** 1 failures.\n"
     ]
    }
   ],
   "source": [
    "import math\n",
    "import doctest\n",
    "def sums(*num):\n",
    "    '''\n",
    "    >>> sums(1,2,3,4,5)\n",
    "    15\n",
    "    >>> sums('a',1,2,3,4)\n",
    "    14\n",
    "    '''\n",
    "    total = math.trunc(sum(num))\n",
    "    return total\n",
    "if __name__ == '__main__':\n",
    "    doctest.testmod(verbose=False)"
   ]
  },
  {
   "cell_type": "markdown",
   "metadata": {},
   "source": [
    "#### 使用独立文件测试"
   ]
  },
  {
   "cell_type": "code",
   "execution_count": 16,
   "metadata": {},
   "outputs": [
    {
     "ename": "ValueError",
     "evalue": "Module-relative files may not have absolute paths",
     "output_type": "error",
     "traceback": [
      "\u001b[0;31m---------------------------------------------------------------------------\u001b[0m",
      "\u001b[0;31mValueError\u001b[0m                                Traceback (most recent call last)",
      "Cell \u001b[0;32mIn[16], line 9\u001b[0m\n\u001b[1;32m      7\u001b[0m \u001b[38;5;28;01mif\u001b[39;00m \u001b[38;5;18m__name__\u001b[39m \u001b[38;5;241m==\u001b[39m \u001b[38;5;124m'\u001b[39m\u001b[38;5;124m__main__\u001b[39m\u001b[38;5;124m'\u001b[39m:\n\u001b[1;32m      8\u001b[0m     \u001b[38;5;28;01mimport\u001b[39;00m \u001b[38;5;21;01mdoctest\u001b[39;00m\n\u001b[0;32m----> 9\u001b[0m     \u001b[43mdoctest\u001b[49m\u001b[38;5;241;43m.\u001b[39;49m\u001b[43mtestfile\u001b[49m\u001b[43m(\u001b[49m\u001b[43mos\u001b[49m\u001b[38;5;241;43m.\u001b[39;49m\u001b[43mpath\u001b[49m\u001b[38;5;241;43m.\u001b[39;49m\u001b[43mjoin\u001b[49m\u001b[43m(\u001b[49m\u001b[43mos\u001b[49m\u001b[38;5;241;43m.\u001b[39;49m\u001b[43mgetcwd\u001b[49m\u001b[43m(\u001b[49m\u001b[43m)\u001b[49m\u001b[43m,\u001b[49m\u001b[43m \u001b[49m\u001b[38;5;124;43m'\u001b[39;49m\u001b[38;5;124;43mtest_content.txt\u001b[39;49m\u001b[38;5;124;43m'\u001b[39;49m\u001b[43m)\u001b[49m\u001b[43m,\u001b[49m\u001b[43m \u001b[49m\u001b[43mverbose\u001b[49m\u001b[38;5;241;43m=\u001b[39;49m\u001b[38;5;28;43;01mTrue\u001b[39;49;00m\u001b[43m)\u001b[49m\n",
      "File \u001b[0;32m~/anaconda3/envs/algorithmPractice/lib/python3.8/doctest.py:2055\u001b[0m, in \u001b[0;36mtestfile\u001b[0;34m(filename, module_relative, name, package, globs, verbose, report, optionflags, extraglobs, raise_on_error, parser, encoding)\u001b[0m\n\u001b[1;32m   2051\u001b[0m     \u001b[38;5;28;01mraise\u001b[39;00m \u001b[38;5;167;01mValueError\u001b[39;00m(\u001b[38;5;124m\"\u001b[39m\u001b[38;5;124mPackage may only be specified for module-\u001b[39m\u001b[38;5;124m\"\u001b[39m\n\u001b[1;32m   2052\u001b[0m                      \u001b[38;5;124m\"\u001b[39m\u001b[38;5;124mrelative paths.\u001b[39m\u001b[38;5;124m\"\u001b[39m)\n\u001b[1;32m   2054\u001b[0m \u001b[38;5;66;03m# Relativize the path\u001b[39;00m\n\u001b[0;32m-> 2055\u001b[0m text, filename \u001b[38;5;241m=\u001b[39m \u001b[43m_load_testfile\u001b[49m\u001b[43m(\u001b[49m\u001b[43mfilename\u001b[49m\u001b[43m,\u001b[49m\u001b[43m \u001b[49m\u001b[43mpackage\u001b[49m\u001b[43m,\u001b[49m\u001b[43m \u001b[49m\u001b[43mmodule_relative\u001b[49m\u001b[43m,\u001b[49m\n\u001b[1;32m   2056\u001b[0m \u001b[43m                                \u001b[49m\u001b[43mencoding\u001b[49m\u001b[43m \u001b[49m\u001b[38;5;129;43;01mor\u001b[39;49;00m\u001b[43m \u001b[49m\u001b[38;5;124;43m\"\u001b[39;49m\u001b[38;5;124;43mutf-8\u001b[39;49m\u001b[38;5;124;43m\"\u001b[39;49m\u001b[43m)\u001b[49m\n\u001b[1;32m   2058\u001b[0m \u001b[38;5;66;03m# If no name was given, then use the file's name.\u001b[39;00m\n\u001b[1;32m   2059\u001b[0m \u001b[38;5;28;01mif\u001b[39;00m name \u001b[38;5;129;01mis\u001b[39;00m \u001b[38;5;28;01mNone\u001b[39;00m:\n",
      "File \u001b[0;32m~/anaconda3/envs/algorithmPractice/lib/python3.8/doctest.py:224\u001b[0m, in \u001b[0;36m_load_testfile\u001b[0;34m(filename, package, module_relative, encoding)\u001b[0m\n\u001b[1;32m    222\u001b[0m \u001b[38;5;28;01mif\u001b[39;00m module_relative:\n\u001b[1;32m    223\u001b[0m     package \u001b[38;5;241m=\u001b[39m _normalize_module(package, \u001b[38;5;241m3\u001b[39m)\n\u001b[0;32m--> 224\u001b[0m     filename \u001b[38;5;241m=\u001b[39m \u001b[43m_module_relative_path\u001b[49m\u001b[43m(\u001b[49m\u001b[43mpackage\u001b[49m\u001b[43m,\u001b[49m\u001b[43m \u001b[49m\u001b[43mfilename\u001b[49m\u001b[43m)\u001b[49m\n\u001b[1;32m    225\u001b[0m     \u001b[38;5;28;01mif\u001b[39;00m \u001b[38;5;28mgetattr\u001b[39m(package, \u001b[38;5;124m'\u001b[39m\u001b[38;5;124m__loader__\u001b[39m\u001b[38;5;124m'\u001b[39m, \u001b[38;5;28;01mNone\u001b[39;00m) \u001b[38;5;129;01mis\u001b[39;00m \u001b[38;5;129;01mnot\u001b[39;00m \u001b[38;5;28;01mNone\u001b[39;00m:\n\u001b[1;32m    226\u001b[0m         \u001b[38;5;28;01mif\u001b[39;00m \u001b[38;5;28mhasattr\u001b[39m(package\u001b[38;5;241m.\u001b[39m__loader__, \u001b[38;5;124m'\u001b[39m\u001b[38;5;124mget_data\u001b[39m\u001b[38;5;124m'\u001b[39m):\n",
      "File \u001b[0;32m~/anaconda3/envs/algorithmPractice/lib/python3.8/doctest.py:394\u001b[0m, in \u001b[0;36m_module_relative_path\u001b[0;34m(module, test_path)\u001b[0m\n\u001b[1;32m    392\u001b[0m     \u001b[38;5;28;01mraise\u001b[39;00m \u001b[38;5;167;01mTypeError\u001b[39;00m(\u001b[38;5;124m'\u001b[39m\u001b[38;5;124mExpected a module: \u001b[39m\u001b[38;5;132;01m%r\u001b[39;00m\u001b[38;5;124m'\u001b[39m \u001b[38;5;241m%\u001b[39m module)\n\u001b[1;32m    393\u001b[0m \u001b[38;5;28;01mif\u001b[39;00m test_path\u001b[38;5;241m.\u001b[39mstartswith(\u001b[38;5;124m'\u001b[39m\u001b[38;5;124m/\u001b[39m\u001b[38;5;124m'\u001b[39m):\n\u001b[0;32m--> 394\u001b[0m     \u001b[38;5;28;01mraise\u001b[39;00m \u001b[38;5;167;01mValueError\u001b[39;00m(\u001b[38;5;124m'\u001b[39m\u001b[38;5;124mModule-relative files may not have absolute paths\u001b[39m\u001b[38;5;124m'\u001b[39m)\n\u001b[1;32m    396\u001b[0m \u001b[38;5;66;03m# Normalize the path. On Windows, replace \"/\" with \"\\\".\u001b[39;00m\n\u001b[1;32m    397\u001b[0m test_path \u001b[38;5;241m=\u001b[39m os\u001b[38;5;241m.\u001b[39mpath\u001b[38;5;241m.\u001b[39mjoin(\u001b[38;5;241m*\u001b[39m(test_path\u001b[38;5;241m.\u001b[39msplit(\u001b[38;5;124m'\u001b[39m\u001b[38;5;124m/\u001b[39m\u001b[38;5;124m'\u001b[39m)))\n",
      "\u001b[0;31mValueError\u001b[0m: Module-relative files may not have absolute paths"
     ]
    }
   ],
   "source": [
    "import sys\n",
    "import math\n",
    "import os\n",
    "def sums(*num):\n",
    "    total = math.trunc(sum(num))\n",
    "    return total\n",
    "if __name__ == '__main__':\n",
    "    import doctest\n",
    "    doctest.testfile(os.path.join(os.getcwd(), 'test_content.txt'), verbose=True)"
   ]
  },
  {
   "cell_type": "markdown",
   "metadata": {},
   "source": [
    "#### unitest"
   ]
  }
 ],
 "metadata": {
  "kernelspec": {
   "display_name": "algorithmPractice",
   "language": "python",
   "name": "python3"
  },
  "language_info": {
   "codemirror_mode": {
    "name": "ipython",
    "version": 3
   },
   "file_extension": ".py",
   "mimetype": "text/x-python",
   "name": "python",
   "nbconvert_exporter": "python",
   "pygments_lexer": "ipython3",
   "version": "3.8.19"
  }
 },
 "nbformat": 4,
 "nbformat_minor": 2
}

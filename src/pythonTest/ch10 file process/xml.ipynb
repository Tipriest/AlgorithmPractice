{
 "cells": [
  {
   "cell_type": "markdown",
   "metadata": {},
   "source": [
    "## xml格式文件"
   ]
  },
  {
   "cell_type": "code",
   "execution_count": 5,
   "metadata": {},
   "outputs": [
    {
     "name": "stdout",
     "output_type": "stream",
     "text": [
      "finish to write the content!\n"
     ]
    }
   ],
   "source": [
    "import sys\n",
    "import os\n",
    "class BuildNewXML():\n",
    "    def __init__(self, filename = None):\n",
    "        self.filename = filename\n",
    "        self.__get_f = None\n",
    "    def openfile(self):\n",
    "        if self.filename is None:\n",
    "            print(\"filename is none\")\n",
    "            return False\n",
    "        try:\n",
    "            self.__get_f = open(self.filename, 'a', encoding='utf-8')\n",
    "            return True\n",
    "        except:\n",
    "            print(\"fail to open the %s file\"%(self.filename))\n",
    "            return False\n",
    "    def writeXML(self, n, element):\n",
    "        try:\n",
    "            if n == 0:\n",
    "                self.__get_f.write(element+'\\n')\n",
    "            else:\n",
    "                self.__get_f.write(''*n+element+'\\n')\n",
    "        except:\n",
    "            print(\"向%s文件中写%s出错!\"%(self.filename, element))\n",
    "    def closeXML(self):\n",
    "        self.__get_f.close()\n",
    "\n",
    "filename = os.path.join(os.getcwd(), \"storehouse.xml\")\n",
    "flag = False\n",
    "content = {\n",
    "    1:[0,'<storehouse>'],\n",
    "    2:[4,'<goods category=\"fish\">'],\n",
    "    3:[8,'<title>淡水鱼</title>'],\n",
    "    4:[8,'<name>鲫鱼</name>'],\n",
    "    5:[8,'<amount>18</amount>'],\n",
    "    6:[8,'<price>8</price>'],\n",
    "    7:[4,'</goods>'],\n",
    "    8:[4,'<goods category=\"fruit\">'],\n",
    "    9:[8,'<title>温带水果</title>'],\n",
    "    10:[8,'<name>猕猴桃</name>'],\n",
    "    11:[8,'<amount>10</amount>'],\n",
    "    12:[8,'<price>8</price>'],\n",
    "    13:[4,'</goods>'],\n",
    "    14:[0,'</storehouse>']\n",
    "}\n",
    "build_xml = BuildNewXML(filename)\n",
    "try:\n",
    "    if build_xml.openfile():\n",
    "        \n",
    "        for get_item in content.items():\n",
    "            build_xml.writeXML(get_item[1][0], get_item[1][1])\n",
    "        flag = True\n",
    "except:\n",
    "    print(\"fail to write content in file, exit the program!\")\n",
    "    sys.exit()\n",
    "finally:\n",
    "    if flag:\n",
    "        build_xml.closeXML()\n",
    "        print(\"finish to write the content!\")"
   ]
  },
  {
   "cell_type": "markdown",
   "metadata": {},
   "source": [
    "Python的xml模块提供了两个最基本和广泛使用的API接口，SAX和DOM，通过他们来处理相应的XML文件"
   ]
  },
  {
   "cell_type": "markdown",
   "metadata": {},
   "source": [
    "SAX(Simple API for xml)文件通过在解析XML的过程中触发一个个的事件并调用用户定义的回调函数来处理XML文件，这在文件很大或者有内存限制的时候很有用，它从磁盘读取数据时，只需要读取部分的内容，避免把整个文件内容读入磁盘"
   ]
  },
  {
   "cell_type": "markdown",
   "metadata": {},
   "source": [
    "DOM(Document Object Model)整个文件被读入内存并以分层的形式存储以表示XML的所有特征"
   ]
  },
  {
   "cell_type": "markdown",
   "metadata": {},
   "source": [
    "当处理大文件时，SAX无法像DOM那样快速处理信息，另外，单独使用DOM可以真正主动清楚内存的占用资源，尤其是在很多小文件上使用时"
   ]
  },
  {
   "cell_type": "markdown",
   "metadata": {},
   "source": [
    "SAX是只读的，DOM允许更改XML文件，这两种API可以互相补充"
   ]
  },
  {
   "cell_type": "markdown",
   "metadata": {},
   "source": [
    "### 用SAX读取XML文件"
   ]
  },
  {
   "cell_type": "code",
   "execution_count": null,
   "metadata": {},
   "outputs": [],
   "source": []
  }
 ],
 "metadata": {
  "kernelspec": {
   "display_name": "Python 3",
   "language": "python",
   "name": "python3"
  },
  "language_info": {
   "codemirror_mode": {
    "name": "ipython",
    "version": 3
   },
   "file_extension": ".py",
   "mimetype": "text/x-python",
   "name": "python",
   "nbconvert_exporter": "python",
   "pygments_lexer": "ipython3",
   "version": "3.11.1"
  }
 },
 "nbformat": 4,
 "nbformat_minor": 2
}

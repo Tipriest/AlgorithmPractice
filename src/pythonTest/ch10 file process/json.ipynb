{
 "cells": [
  {
   "cell_type": "markdown",
   "metadata": {},
   "source": [
    "## JSON"
   ]
  },
  {
   "cell_type": "markdown",
   "metadata": {},
   "source": [
    "传统的txt文件在处理时过于复杂"
   ]
  },
  {
   "cell_type": "markdown",
   "metadata": {},
   "source": [
    "把Python数据转化为JSON格式的过程叫做序列化，把JSON格式转化为Python数据类型的过程叫做反序列化，序列化后的JSON格式字符串可以存储在文件或数据中，也可以通过网络连接传送给远程的机器"
   ]
  },
  {
   "cell_type": "code",
   "execution_count": 4,
   "metadata": {},
   "outputs": [
    {
     "name": "stdout",
     "output_type": "stream",
     "text": [
      "{'Tom': 29, 'Jack': 20, 'Jim': 21}\n"
     ]
    },
    {
     "data": {
      "text/plain": [
       "{'Tom': 29, 'Jack': 20, 'Jim': 21}"
      ]
     },
     "execution_count": 4,
     "metadata": {},
     "output_type": "execute_result"
    }
   ],
   "source": [
    "import json\n",
    "p_d = {'Tom':29, 'Jack':20, 'Jim':21}\n",
    "print(p_d)\n",
    "p_to_j = json.dumps(p_d)\n",
    "p_to_j # 所有保存为json格式的数据是以字符串的格式存储的,所以外面有单引号\n",
    "j_to_p = json.loads(p_to_j)\n",
    "j_to_p"
   ]
  },
  {
   "cell_type": "code",
   "execution_count": 16,
   "metadata": {},
   "outputs": [
    {
     "name": "stdout",
     "output_type": "stream",
     "text": [
      "学生信息成功保存到json文件\n",
      "{'name': '丁丁', 'age': 12, 'birthday': '2006年12月25日'}\n"
     ]
    }
   ],
   "source": [
    "import json\n",
    "import sys\n",
    "import os\n",
    "def saveToJson(filename, dicObject):\n",
    "    flag = False\n",
    "    if type(dicObject) != dict:\n",
    "        return flag\n",
    "    try:\n",
    "        j_file = open(filename, 'w')\n",
    "        json.dump(dicObject, j_file, ensure_ascii=False)\n",
    "        flag = True\n",
    "    except:\n",
    "        print(\"向%s写入数据出错!\"%(filename))\n",
    "    finally:\n",
    "        if flag:\n",
    "            j_file.close()\n",
    "        return flag\n",
    "def getFromJson(filename):\n",
    "    flag = False\n",
    "    dicObject = {}\n",
    "    try:\n",
    "        j_file = open(filename, 'r')\n",
    "        dicObject = json.load(j_file)\n",
    "        flag = True\n",
    "    except:\n",
    "        print(\"fail to read from the %s\"%(filename))\n",
    "    finally:\n",
    "        if flag:\n",
    "            j_file.close()\n",
    "    return dicObject\n",
    "\n",
    "d_student = {'name':'丁丁','age':12, 'birthday':\"2006年12月25日\"}\n",
    "# print(d_student)\n",
    "filename = os.path.join(os.getcwd(), 'student.json')\n",
    "# print(filename)\n",
    "f_OK = saveToJson(filename, d_student)\n",
    "if(f_OK):\n",
    "    print(\"学生信息成功保存到json文件\")\n",
    "else:\n",
    "    print(\"学生信息没有成功保存到json文件\")\n",
    "    sys.exit()\n",
    "    \n",
    "d_get_s = getFromJson(filename)\n",
    "if d_get_s:\n",
    "    print(d_get_s)"
   ]
  }
 ],
 "metadata": {
  "kernelspec": {
   "display_name": "Python 3",
   "language": "python",
   "name": "python3"
  },
  "language_info": {
   "codemirror_mode": {
    "name": "ipython",
    "version": 3
   },
   "file_extension": ".py",
   "mimetype": "text/x-python",
   "name": "python",
   "nbconvert_exporter": "python",
   "pygments_lexer": "ipython3",
   "version": "3.8.10"
  }
 },
 "nbformat": 4,
 "nbformat_minor": 2
}

{
 "cells": [
  {
   "cell_type": "markdown",
   "metadata": {},
   "source": [
    "### 多任务技术"
   ]
  },
  {
   "cell_type": "markdown",
   "metadata": {},
   "source": [
    "一个程序是一个进程(Progress)，一个进程可以包含多个线程(Thread)，像是迅雷的下载就运用了多线程技术，除了一般的进程和线程，还有一种守护线程，是运行在后台的一种特殊线程，它独立于控制终端并且周期性的执行某种任务，它的作用是为其他线程提供服务，譬如操作系统的垃圾回收站，打印服务等。"
   ]
  },
  {
   "cell_type": "markdown",
   "metadata": {},
   "source": [
    "多线程模块包括threading,queue模块等"
   ]
  },
  {
   "cell_type": "code",
   "execution_count": 11,
   "metadata": {},
   "outputs": [
    {
     "name": "stdout",
     "output_type": "stream",
     "text": [
      "当前活动线程数量:6\n",
      "当前活动线程数量:6\n",
      "当前线程对象:<_MainThread(MainThread, started 27392)>\n",
      "<_MainThread(MainThread, started 27392)>\n",
      "<Thread(IOPub, started daemon 15696)>\n",
      "<Heartbeat(Heartbeat, started daemon 18584)>\n",
      "<ControlThread(Control, started daemon 14068)>\n",
      "<HistorySavingThread(IPythonHistorySavingThread, started 34784)>\n",
      "<ParentPollerWindows(Thread-3, started daemon 7748)>\n",
      "主线程对象:<_MainThread(MainThread, started 27392)>\n",
      "threading.TIMEOUT_MAX=4294967\n"
     ]
    }
   ],
   "source": [
    "import threading\n",
    "print(\"当前活动线程数量:%d\"%(threading.active_count()))\n",
    "print(\"当前活动线程数量:%d\"%(threading.active_count()))\n",
    "print(\"当前线程对象:%s\"%(threading.current_thread()))\n",
    "for i in threading.enumerate():\n",
    "    print(i)\n",
    "print(\"主线程对象:%s\"%(threading.main_thread()))\n",
    "print(\"threading.TIMEOUT_MAX=%d\"%(threading.TIMEOUT_MAX))"
   ]
  },
  {
   "cell_type": "markdown",
   "metadata": {},
   "source": [
    "Threading模块提供了Thread, Lock, RLock, Condition, Semaphore, Event等类的支持功能"
   ]
  },
  {
   "cell_type": "markdown",
   "metadata": {},
   "source": [
    "(1)Thread类"
   ]
  },
  {
   "cell_type": "markdown",
   "metadata": {},
   "source": [
    "Thread类是threading模块中最常用的功能，通过调用用户指定函数func, 用于独立生成一个活动的线程.调用用户指定函数func(), 可以有两种方法 \n",
    "1. 是在Thread创建实例对象时，把func以参数形式传递给构造函数;\n",
    "2. 通过继承Thread类,并重写run()方法，调用func()函数。在Thread的子类中，只允许对__init__()和run()方法进行重写"
   ]
  }
 ],
 "metadata": {
  "kernelspec": {
   "display_name": "algorithmPractice",
   "language": "python",
   "name": "python3"
  },
  "language_info": {
   "codemirror_mode": {
    "name": "ipython",
    "version": 3
   },
   "file_extension": ".py",
   "mimetype": "text/x-python",
   "name": "python",
   "nbconvert_exporter": "python",
   "pygments_lexer": "ipython3",
   "version": "3.8.19"
  }
 },
 "nbformat": 4,
 "nbformat_minor": 2
}

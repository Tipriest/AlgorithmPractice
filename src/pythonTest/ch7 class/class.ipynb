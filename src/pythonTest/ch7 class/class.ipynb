{
 "cells": [
  {
   "cell_type": "markdown",
   "metadata": {},
   "source": [
    "## 类的基本使用\n",
    "初始类 属性使用 类的改造问题 私有 把类放到模块中 类回顾"
   ]
  },
  {
   "cell_type": "code",
   "execution_count": 2,
   "metadata": {},
   "outputs": [
    {
     "name": "stdout",
     "output_type": "stream",
     "text": [
      "The size of the cube is 1000\n"
     ]
    }
   ],
   "source": [
    "class Box1():\n",
    "    \"\"\"求立方体的类\"\"\"\n",
    "    def __init__(self, length1, width1, height1):\n",
    "        self.length = length1\n",
    "        self.width = width1\n",
    "        self.height = height1\n",
    "    def volume(self):\n",
    "        return self.length * self.width * self.height\n",
    "    \n",
    "myBox1 = Box1(10, 10, 10)\n",
    "print(\"The size of the cube is %d\" %(myBox1.volume()))\n"
   ]
  },
  {
   "cell_type": "markdown",
   "metadata": {},
   "source": [
    "属性值修改包括直接对属性进行修改和通过类内方法对属性值进行修改"
   ]
  },
  {
   "cell_type": "code",
   "execution_count": 2,
   "metadata": {},
   "outputs": [
    {
     "name": "stdout",
     "output_type": "stream",
     "text": [
      "0\n",
      "10\n",
      "20\n"
     ]
    }
   ],
   "source": [
    "class Box1():\n",
    "    \"\"\" 求立方体的类 \"\"\"\n",
    "    def __init__(self):\n",
    "        self.length = 0\n",
    "        self.width = 0\n",
    "        self.height = 0\n",
    "B1 = Box1()\n",
    "print(B1.length)\n",
    "B1.length = 10\n",
    "print(B1.length)\n",
    "B2 = Box1()\n",
    "B2.length = 20\n",
    "print(B2.length)"
   ]
  },
  {
   "cell_type": "code",
   "execution_count": 3,
   "metadata": {},
   "outputs": [
    {
     "name": "stdout",
     "output_type": "stream",
     "text": [
      "15\n"
     ]
    }
   ],
   "source": [
    "class Box1():\n",
    "    def __init__(self):\n",
    "        self.length = 0\n",
    "        self.width = 0\n",
    "        self.height = 0\n",
    "    def setNewLength(self, length1):\n",
    "        self.length = length1\n",
    "B1 = Box1()\n",
    "B1.setNewLength(15)\n",
    "print(B1.length)"
   ]
  },
  {
   "cell_type": "code",
   "execution_count": 5,
   "metadata": {},
   "outputs": [
    {
     "name": "stdout",
     "output_type": "stream",
     "text": [
      "black\n"
     ]
    }
   ],
   "source": [
    "class Color1():\n",
    "    def __init__(self, c1 = 0):\n",
    "        self.setcolor = ['white', 'red', 'black', 'green']\n",
    "        self.index = c1\n",
    "    def setColor(self):\n",
    "        return self.setcolor[self.index]\n",
    "class Box1():\n",
    "    \"\"\"求立方体的类\"\"\"\n",
    "    def __init__(self, length1, width1, height1, c1 = 0):\n",
    "        self.length = length1\n",
    "        self.width = width1\n",
    "        self.height = height1\n",
    "        self.color0 = Color1(c1).setColor()\n",
    "myBox = Box1(10, 10, 10, 2)\n",
    "print(myBox.color0)"
   ]
  },
  {
   "cell_type": "markdown",
   "metadata": {},
   "source": [
    "## 类的改造：类的继承和方法的重写"
   ]
  },
  {
   "cell_type": "markdown",
   "metadata": {},
   "source": [
    "第三方库可能是已经编译好的，或者三方代码被其他文件所依赖因此无法随意修改，在这些情况下需要对类进行相应的改造"
   ]
  },
  {
   "cell_type": "code",
   "execution_count": 7,
   "metadata": {},
   "outputs": [
    {
     "name": "stdout",
     "output_type": "stream",
     "text": [
      "1000\n",
      "600\n"
     ]
    }
   ],
   "source": [
    "# Box2子类通过继承Box1父类实现\n",
    "class Box1():\n",
    "    \"\"\"求立方体的类\"\"\"\n",
    "    def __init__(self, length1, width1, height1):\n",
    "        self.length = length1\n",
    "        self.width = width1\n",
    "        self.height = height1\n",
    "    def volume(self):\n",
    "        return self.length * self.width * self.height\n",
    "class Box2(Box1):                                                         #继承Box1 定义子类Box2\n",
    "    def __init__(self, length1, width1, height1):                         #子类重新定义__init__()\n",
    "        super().__init__(length1, width1, height1)                        #super实现父类与子类的关联\n",
    "        self.color = 'white'\n",
    "        self.material = 'paper'\n",
    "        self.type = 'fish'\n",
    "    def area(self):\n",
    "        re = self.length * self.height + self.length * self.width + self.height * self.width\n",
    "        return re * 2\n",
    "myBox2 = Box2(10, 10, 10)\n",
    "print(myBox2.volume())\n",
    "print(myBox2.area())        \n"
   ]
  },
  {
   "cell_type": "markdown",
   "metadata": {},
   "source": [
    "### 继承使用的方法\n",
    "(1) 在子类声明时，引入父类名，如\"class Box2(Box1):\""
   ]
  },
  {
   "cell_type": "markdown",
   "metadata": {},
   "source": [
    "(2) 重新定义子类的__init__函数，若父__init__()函数有参数，则照抄父函数的参数"
   ]
  },
  {
   "cell_type": "markdown",
   "metadata": {},
   "source": [
    "(3)在子类__init__函数里提供super()参数，实现父类与子类的关联，若父类有参数，需要同步参数（self除外），如super().\\_\\_init\\_\\_(length1, width1, height1)"
   ]
  },
  {
   "cell_type": "markdown",
   "metadata": {},
   "source": [
    "(4) 可以在子类里增加新属性定义，如self.color  = 'white'"
   ]
  },
  {
   "cell_type": "markdown",
   "metadata": {},
   "source": [
    "(5) 可以在子类里增加新方法定义，如def area(self):"
   ]
  },
  {
   "cell_type": "markdown",
   "metadata": {},
   "source": [
    "(6) 可以在子类中重写父类的方法，函数名相同即可"
   ]
  },
  {
   "cell_type": "markdown",
   "metadata": {},
   "source": [
    "# 类的私有"
   ]
  },
  {
   "cell_type": "code",
   "execution_count": 9,
   "metadata": {},
   "outputs": [
    {
     "name": "stdout",
     "output_type": "stream",
     "text": [
      "ok\n"
     ]
    }
   ],
   "source": [
    "class TestPrivate():\n",
    "    def __init__(self):\n",
    "        self.__say = 'ok'\n",
    "    def p(self):\n",
    "        print(self.__say)\n",
    "    def __p1(self):\n",
    "        print(self.__say)\n",
    "show = TestPrivate()\n",
    "show.p()\n",
    "# show.__p1()"
   ]
  },
  {
   "cell_type": "code",
   "execution_count": null,
   "metadata": {},
   "outputs": [],
   "source": [
    "import sys\n",
    "sys.path[0] = '/home/tipriest/Documents/AlgorithmPractice/src/pythonTest/ch7 class/class'\n",
    "from class_storage import *\n",
    "myBox2 = Box2(10, 10, 10)\n",
    "print(myBox2.volume())\n",
    "print(myBox2.area()) "
   ]
  },
  {
   "cell_type": "markdown",
   "metadata": {},
   "source": [
    "## 静态类"
   ]
  },
  {
   "cell_type": "markdown",
   "metadata": {},
   "source": [
    "若把可以创建实例的类叫做动态类，还有一种不支持实例的类叫做静态类(Static Class)，静态类与动态类的关键区别如下："
   ]
  },
  {
   "cell_type": "markdown",
   "metadata": {},
   "source": [
    "(1) 静态类内部没有self关键字，也就是不能被实例化"
   ]
  },
  {
   "cell_type": "markdown",
   "metadata": {},
   "source": [
    "(2) 静态类不能通过类名传递参数"
   ]
  },
  {
   "cell_type": "markdown",
   "metadata": {},
   "source": [
    "(3) 静态类不支持__init__()初始化参数"
   ]
  },
  {
   "cell_type": "markdown",
   "metadata": {},
   "source": [
    "(4) 静态类不能真正被实例化，但它可以继承变量或函数，是一个带结构的数据类型"
   ]
  },
  {
   "cell_type": "code",
   "execution_count": 1,
   "metadata": {},
   "outputs": [
    {
     "name": "stdout",
     "output_type": "stream",
     "text": [
      "name = Tom\n",
      "the first func1\n",
      "None\n",
      "the second func2\n",
      "None\n",
      "the third func3\n",
      "3\n"
     ]
    }
   ],
   "source": [
    "class StaticC():\n",
    "    name = 'Tom'\n",
    "    age = 20\n",
    "    adress = 'China'\n",
    "    call = 28380000\n",
    "    def a():\n",
    "        i = 0\n",
    "        i += 1\n",
    "        print(\"the first func%d\"%(i))\n",
    "    def b(add = 1):\n",
    "        print(\"the second func%d\"%(add))\n",
    "    def c(add = 1):\n",
    "        print(\"the third func%d\"%(add))\n",
    "        return add\n",
    "print(\"name = %s\"%(StaticC.name))\n",
    "print(StaticC.a())\n",
    "print(StaticC.b(2))\n",
    "print(StaticC.c(3))"
   ]
  },
  {
   "cell_type": "markdown",
   "metadata": {},
   "source": [
    "对于需要实例化的动态类，不提倡直接调用动态类内部的变量，建议通过self关键字属性化之后再调用，这样可以确保各个实例的属性值各管各的，互不干扰"
   ]
  }
 ],
 "metadata": {
  "kernelspec": {
   "display_name": "base",
   "language": "python",
   "name": "python3"
  },
  "language_info": {
   "codemirror_mode": {
    "name": "ipython",
    "version": 3
   },
   "file_extension": ".py",
   "mimetype": "text/x-python",
   "name": "python",
   "nbconvert_exporter": "python",
   "pygments_lexer": "ipython3",
   "version": "3.8.10"
  }
 },
 "nbformat": 4,
 "nbformat_minor": 2
}

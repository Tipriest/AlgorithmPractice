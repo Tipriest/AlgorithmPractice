{
 "cells": [
  {
   "cell_type": "markdown",
   "metadata": {},
   "source": [
    "### 数据库概述"
   ]
  },
  {
   "cell_type": "markdown",
   "metadata": {},
   "source": [
    "数据库可以分为关系型数据库和非关系型数据库，关系型数据库仍然占据主流地位, 像是MySQL, Oracle, Microsoft Access, SQLite等都属于关系型数据库"
   ]
  },
  {
   "cell_type": "markdown",
   "metadata": {},
   "source": [
    "SQLite是Python自带的一款基于内存或硬盘的，开源的，关系型的轻量级数据库，这意味着无需下载安装SQLite数据库产品和对应的数据库驱动程序，就可以被Python语言以模块导入方式直接调用使用"
   ]
  },
  {
   "cell_type": "markdown",
   "metadata": {},
   "source": [
    "对关系型数据库进行读写操作，需要进行如下几个步骤：\n",
    "1. 建立应用系统与数据库的连接\n",
    "2. 需要建立数据库实例，通俗讲是建立一个存储数据的文件\n",
    "3. 需要建立对应的表结构\n",
    "4. 向表内写记录，读记录\n",
    "5. 关闭与数据库的连接"
   ]
  },
  {
   "cell_type": "markdown",
   "metadata": {},
   "source": [
    "##### 1.建立与SQLite数据库的连接"
   ]
  },
  {
   "cell_type": "code",
   "execution_count": 1,
   "metadata": {},
   "outputs": [],
   "source": [
    "# 建立基于内存的数据库\n",
    "import sqlite3\n",
    "conn = sqlite3.connect(\":memory:\")\n",
    "conn.close()"
   ]
  },
  {
   "cell_type": "code",
   "execution_count": 13,
   "metadata": {},
   "outputs": [],
   "source": [
    "# 建立基于硬盘的数据库, 并建立相应的表格\n",
    "import sqlite3\n",
    "import os\n",
    "conn = sqlite3.connect(os.path.join(os.getcwd(), \"First.db\"))\n",
    "cur = conn.cursor()  #通过建立数据库游标对象，准备读写操作\n",
    "cur.execute('Create table if not exists T_fish(date text, name text, nums int, price real, Explain text)')\n",
    "\n",
    "cur.execute(\"insert into T_fish Values('2018-3-28', '黑鱼', 10, 28.3, 'Tom')\")\n",
    "conn.commit()\n",
    "conn.close()"
   ]
  },
  {
   "cell_type": "code",
   "execution_count": 14,
   "metadata": {},
   "outputs": [
    {
     "name": "stdout",
     "output_type": "stream",
     "text": [
      "('2018-3-28', '黑鱼', 10, 28.3, 'Tom')\n",
      "('2018-3-28', '黑鱼', 10, 28.3, 'Tom')\n",
      "('2018-3-28', '黑鱼', 10, 28.3, 'Tom')\n"
     ]
    }
   ],
   "source": [
    "# 查找数据\n",
    "import sqlite3\n",
    "\n",
    "conn = sqlite3.connect(os.path.join(os.getcwd(), \"First.db\"))\n",
    "cur = conn.cursor()\n",
    "cur.execute('select * from T_fish')\n",
    "for row in cur.fetchall():\n",
    "    print(row)\n",
    "conn.close()"
   ]
  },
  {
   "cell_type": "code",
   "execution_count": 17,
   "metadata": {},
   "outputs": [
    {
     "name": "stdout",
     "output_type": "stream",
     "text": [
      "('2018-3-29', '鲤鱼', 17, 10.3, 'John')\n",
      "('2018-3-30', '鲢鱼', 9, 9.2, 'Tim')\n",
      "('2018-3-29', '鲤鱼', 17, 10.3, 'John')\n",
      "('2018-3-30', '鲢鱼', 9, 9.2, 'Tim')\n",
      "('2018-3-28', '黑鱼', 10, 28.3, 'Tom')\n",
      "('2018-3-29', '鲤鱼', 17, 10.3, 'John')\n",
      "('2018-3-30', '鲢鱼', 9, 9.2, 'Tim')\n",
      "\n",
      "('2018-3-29', '鲤鱼', 17, 10.3, 'John')\n",
      "('2018-3-30', '鲢鱼', 9, 9.2, 'Tim')\n",
      "('2018-3-29', '鲤鱼', 17, 10.3, 'John')\n",
      "('2018-3-30', '鲢鱼', 9, 9.2, 'Tim')\n",
      "('2018-3-29', '鲤鱼', 17, 10.3, 'John')\n",
      "('2018-3-30', '鲢鱼', 9, 9.2, 'Tim')\n"
     ]
    }
   ],
   "source": [
    "import sqlite3\n",
    "conn = sqlite3.connect(os.path.join(os.getcwd(), \"First.db\"))\n",
    "cur = conn.cursor()\n",
    "cur.execute(\"insert into T_fish Values('2018-3-28', '黑鱼', 10, 28.3, 'Tom')\")\n",
    "cur.execute(\"insert into T_fish Values('2018-3-29', '鲤鱼', 17, 10.3, 'John')\")\n",
    "cur.execute(\"insert into T_fish Values('2018-3-30', '鲢鱼', 9, 9.2, 'Tim')\")\n",
    "conn.commit()\n",
    "cur.execute('select * from T_fish')\n",
    "for row in cur.fetchall():\n",
    "    print(row)\n",
    "cur.execute('delete from T_fish where nums=10')\n",
    "conn.commit()\n",
    "print()\n",
    "cur.execute('select * from T_fish')\n",
    "for row in cur.fetchall():\n",
    "    print(row)"
   ]
  },
  {
   "cell_type": "markdown",
   "metadata": {},
   "source": [
    "关于数据库的这一节，除了已经使用的MySQL，书中后面还介绍了关于Oracle,NoSQL,MongoDB等软件的使用方法，在这里只实现Windows环境下MySQL的基本使用方法，其他数据库等到有需要的时候再进行补充"
   ]
  },
  {
   "cell_type": "code",
   "execution_count": 22,
   "metadata": {},
   "outputs": [
    {
     "name": "stdout",
     "output_type": "stream",
     "text": [
      "T_fish表可以使用\n"
     ]
    }
   ],
   "source": [
    "import pymysql\n",
    "import sys\n",
    "# should change the password to your password\n",
    "try:\n",
    "    conn = pymysql.connect(\n",
    "        host='localhost', \n",
    "        user='root', \n",
    "        passwd='', \n",
    "        db='fox', \n",
    "        port=3306, \n",
    "        charset='utf8')\n",
    "except:\n",
    "    print(\"fail to connect the mysql database\")\n",
    "    conn.close()\n",
    "    sys.exit()\n",
    "cur = conn.cursor()\n",
    "sql = '''create table if not exists T_fish\n",
    "        (date1 char(12) primary key not null,\n",
    "        name char(10) not null,\n",
    "        nums int not null,\n",
    "        price decimal(10, 2) not null,\n",
    "        sExplain varchar(200)\n",
    "        );'''\n",
    "# try:\n",
    "#     cur.execute(sql)\n",
    "#     conn.commit()\n",
    "#     print(\"T_fish表可以使用\")\n",
    "# except:\n",
    "#     print(\"fail to set up the T_fish table\")\n",
    "cur.execute(sql)\n",
    "conn.commit()\n",
    "print(\"T_fish表可以使用\")\n",
    "conn.close()"
   ]
  },
  {
   "cell_type": "code",
   "execution_count": 24,
   "metadata": {},
   "outputs": [
    {
     "name": "stdout",
     "output_type": "stream",
     "text": [
      "有两条记录插入成功!\n",
      "第一条纪录修改成功\n"
     ]
    }
   ],
   "source": [
    "import pymysql\n",
    "import sys\n",
    "try:\n",
    "    conn = pymysql.connect(\n",
    "        host='localhost', \n",
    "        user='root', \n",
    "        passwd='',\n",
    "        db='fox', \n",
    "        port=3306, \n",
    "        charset='utf8')\n",
    "except:\n",
    "    print(\"fail to connect the mysql database\")\n",
    "    conn.close()\n",
    "    sys.exit()\n",
    "cur = conn.cursor()\n",
    "insertSQL = \"insert into T_fish values('2018-3-28', '黑鱼', 10, 28.3, 'Tom')\"\n",
    "insertSQL1 = \"insert into T_fish values('2018-3-29', '鲤鱼', 25, 9.8, 'John')\"\n",
    "try:\n",
    "    cur.execute(insertSQL)\n",
    "    cur.execute(insertSQL1)\n",
    "    conn.commit()\n",
    "    print(\"有两条记录插入成功!\")\n",
    "except:\n",
    "    print(\"有两条记录插入失败!\")\n",
    "    conn.close()\n",
    "    sys.exit()\n",
    "updateSQL = \"update T_fish set nums=12 where date1='2018-3-28'\"\n",
    "try:\n",
    "    cur.execute(updateSQL)\n",
    "    conn.commit()\n",
    "    print(\"第一条纪录修改成功\")\n",
    "except:\n",
    "    print(\"第一条记录修改失败\")\n",
    "    conn.close()\n",
    "    sys.exit()\n"
   ]
  }
 ],
 "metadata": {
  "kernelspec": {
   "display_name": "algorithmPractice",
   "language": "python",
   "name": "python3"
  },
  "language_info": {
   "codemirror_mode": {
    "name": "ipython",
    "version": 3
   },
   "file_extension": ".py",
   "mimetype": "text/x-python",
   "name": "python",
   "nbconvert_exporter": "python",
   "pygments_lexer": "ipython3",
   "version": "3.8.19"
  }
 },
 "nbformat": 4,
 "nbformat_minor": 2
}

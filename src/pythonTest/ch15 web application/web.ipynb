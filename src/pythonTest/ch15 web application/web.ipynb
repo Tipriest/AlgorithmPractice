{
 "cells": [
  {
   "cell_type": "code",
   "execution_count": 2,
   "metadata": {},
   "outputs": [
    {
     "name": "stderr",
     "output_type": "stream",
     "text": [
      "127.0.0.1 - - [10/Aug/2024 11:43:24] \"GET / HTTP/1.1\" 200 -\n",
      "127.0.0.1 - - [10/Aug/2024 11:43:24] \"GET /favicon.ico HTTP/1.1\" 200 -\n"
     ]
    }
   ],
   "source": [
    "from http.server import *\n",
    "class RequestHandler(BaseHTTPRequestHandler):\n",
    "    Page =  \"\"\"\\\n",
    "            <html>\n",
    "            <body>\n",
    "            <p>Hello, Web!</p>\n",
    "            </body>\n",
    "            </html>\n",
    "            \"\"\"\n",
    "    def do_GET(self):\n",
    "        self.send_response(200)\n",
    "        self.protocol_version = \"HTTP:/1.1\"\n",
    "        self.send_header(\"Content-Type\", \"text/html\")\n",
    "        self.send_header(\"Content-Length\", str(len(self.Page)))\n",
    "        self.end_headers()\n",
    "        self.wfile.write(self.Page.encode('utf-8'))\n",
    "if __name__ == '__main__':\n",
    "    serverAddress = ('127.0.0.1', 8000)\n",
    "    server = HTTPServer(serverAddress, RequestHandler)\n",
    "    server.serve_forever()"
   ]
  }
 ],
 "metadata": {
  "kernelspec": {
   "display_name": "algorithmPractice",
   "language": "python",
   "name": "python3"
  },
  "language_info": {
   "codemirror_mode": {
    "name": "ipython",
    "version": 3
   },
   "file_extension": ".py",
   "mimetype": "text/x-python",
   "name": "python",
   "nbconvert_exporter": "python",
   "pygments_lexer": "ipython3",
   "version": "3.8.19"
  }
 },
 "nbformat": 4,
 "nbformat_minor": 2
}

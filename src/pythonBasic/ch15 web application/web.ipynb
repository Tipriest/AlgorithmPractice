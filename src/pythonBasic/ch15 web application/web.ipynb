{
 "cells": [
  {
   "cell_type": "markdown",
   "metadata": {},
   "source": [
    "#### Web应用入门"
   ]
  },
  {
   "cell_type": "markdown",
   "metadata": {},
   "source": [
    "Web服务器主要是起浏览器和Web应用程序之间的信息交互的桥梁作用"
   ]
  },
  {
   "cell_type": "markdown",
   "metadata": {},
   "source": [
    "目前主流的Web浏览器都是免费软件，包括Apache,Nginx,IIS,ligHTTPD,thttpd等，Windows的主要版本上都默认安装了IIS的Web服务器软件，Linux操作系统上都默认安装了Apache服务器软件"
   ]
  },
  {
   "cell_type": "code",
   "execution_count": 3,
   "metadata": {},
   "outputs": [
    {
     "name": "stderr",
     "output_type": "stream",
     "text": [
      "127.0.0.1 - - [10/Aug/2024 15:46:18] \"GET / HTTP/1.1\" 200 -\n",
      "127.0.0.1 - - [10/Aug/2024 15:46:19] \"GET /favicon.ico HTTP/1.1\" 200 -\n",
      "127.0.0.1 - - [10/Aug/2024 15:46:22] \"GET / HTTP/1.1\" 200 -\n",
      "127.0.0.1 - - [10/Aug/2024 15:46:23] \"GET /favicon.ico HTTP/1.1\" 200 -\n"
     ]
    }
   ],
   "source": [
    "# http server模块是Python自带的Web服务器\n",
    "from http.server import *\n",
    "class RequestHandler(BaseHTTPRequestHandler):                  #继承并创建自定义请求类\n",
    "    #给浏览器的带html格式的数据\n",
    "    Page =  \"\"\"\\                                 \n",
    "            <html>\n",
    "            <body>\n",
    "            <p>Hello, Web!</p>\n",
    "            </body>\n",
    "            </html>\n",
    "            \"\"\"\n",
    "    def do_GET(self):                                            #重写父类的do_Get方法\n",
    "        self.send_response(200)                                  #返回响应码，200代表响应成功\n",
    "        self.protocol_version = \"HTTP:/1.1\"                      #指定HTTP协议版本\n",
    "        self.send_header(\"Content-Type\", \"text/html\")            #告诉浏览器返回内容的格式\n",
    "        self.send_header(\"Content-Length\", str(len(self.Page)))  #返回给浏览器内容\n",
    "        self.end_headers()                                       #响应头结束\n",
    "        self.wfile.write(self.Page.encode('utf-8'))              #响应以字节流形式返回浏览器端\n",
    "if __name__ == '__main__':\n",
    "    serverAddress = ('127.0.0.1', 8000)                          #服务器IP地址，端口号\n",
    "    server = HTTPServer(serverAddress, RequestHandler)           #创建Web服务器实例\n",
    "    server.serve_forever()                                       #持续性地执行Web服务器"
   ]
  },
  {
   "cell_type": "code",
   "execution_count": null,
   "metadata": {},
   "outputs": [],
   "source": []
  }
 ],
 "metadata": {
  "kernelspec": {
   "display_name": "algorithmPractice",
   "language": "python",
   "name": "python3"
  },
  "language_info": {
   "codemirror_mode": {
    "name": "ipython",
    "version": 3
   },
   "file_extension": ".py",
   "mimetype": "text/x-python",
   "name": "python",
   "nbconvert_exporter": "python",
   "pygments_lexer": "ipython3",
   "version": "3.8.19"
  }
 },
 "nbformat": 4,
 "nbformat_minor": 2
}

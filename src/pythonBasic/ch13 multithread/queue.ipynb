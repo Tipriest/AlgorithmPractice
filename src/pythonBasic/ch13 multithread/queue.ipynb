{
 "cells": [
  {
   "cell_type": "markdown",
   "metadata": {},
   "source": [
    "#### 线程队列(queue)模块"
   ]
  },
  {
   "cell_type": "code",
   "execution_count": 23,
   "metadata": {},
   "outputs": [
    {
     "name": "stdout",
     "output_type": "stream",
     "text": [
      "线程序号0,获取元素0\n",
      "线程序号0,获取元素1\n",
      "线程序号0,获取元素2\n",
      "线程序号0,获取元素3\n",
      "线程序号0,获取元素4\n",
      "线程序号0,获取元素5\n",
      "线程序号0,获取元素6\n",
      "线程序号0,获取元素7\n",
      "线程序号0,获取元素8\n",
      "线程序号0,获取元素9\n"
     ]
    }
   ],
   "source": [
    "import queue\n",
    "import threading\n",
    "import time\n",
    "import random\n",
    "q_data = queue.Queue(10)       #创建10个元素的队列实例\n",
    "do_thread_num = 5\n",
    "def getOne(one, j):\n",
    "    # time.sleep(random.random()*3)\n",
    "    time.sleep(random.random()*3)\n",
    "    print(\"线程序号%d,获取元素%d\"%(j, one))\n",
    "class myThread(threading.Thread):\n",
    "    def __init__(self, func, data, j):\n",
    "        super().__init__()\n",
    "        self.data = data\n",
    "        self.j = j\n",
    "        self.func = func\n",
    "    def run(self):\n",
    "        while self.data.qsize()>0:\n",
    "            self.func(self.data.get(), self.j)\n",
    "if __name__ == '__main__':\n",
    "    for data in range(do_thread_num*2):\n",
    "        q_data.put(data)\n",
    "    for j in range(do_thread_num-4):\n",
    "        t1 = myThread(getOne, q_data, j).start()\n",
    "        "
   ]
  },
  {
   "cell_type": "markdown",
   "metadata": {},
   "source": [
    "### 并发进程模块"
   ]
  },
  {
   "cell_type": "markdown",
   "metadata": {},
   "source": [
    "在Python中引入多进程技术，是一种代替多线程技术的好的解决方案"
   ]
  },
  {
   "cell_type": "markdown",
   "metadata": {},
   "source": [
    "使用多进程往往是为了处理CPU密集型的需求，如科学计算;如果是I/O密集型，则可以使用多线程去处理，如网络爬虫"
   ]
  },
  {
   "cell_type": "markdown",
   "metadata": {},
   "source": [
    "#### 基于Progress创建多进程"
   ]
  },
  {
   "cell_type": "code",
   "execution_count": 45,
   "metadata": {},
   "outputs": [
    {
     "name": "stdout",
     "output_type": "stream",
     "text": [
      "开始时间: 2024-08-09 16:44:14.155752\n",
      "第0进程!\n",
      "第1进程!\n",
      "第2进程!\n",
      "第3进程!\n",
      "第4进程!\n",
      "第5进程!\n",
      "第6进程!\n",
      "第7进程!\n",
      "第8进程!\n",
      "第9进程!\n",
      "第10进程!\n",
      "第11进程!\n",
      "第12进程!\n",
      "第13进程!第14进程!\n",
      "\n",
      "\n",
      "第15进程!\n",
      "第16进程!第17进程!\n",
      "第18进程!\n",
      "第19进程!\n",
      "第20进程!\n",
      "第21进程!\n",
      "第22进程!\n",
      "第23进程!\n",
      "第24进程!\n",
      "第25进程!\n",
      "第26进程!\n",
      "第27进程!\n",
      "第28进程!\n",
      "第29进程!\n",
      "第30进程!\n",
      "第31进程!\n",
      "第32进程!\n",
      "第33进程!\n",
      "第34进程!\n",
      "第35进程!\n",
      "第36进程!\n",
      "\n",
      "第37进程!第38进程!\n",
      "第39进程!\n",
      "第40进程!\n",
      "第41进程!\n",
      "第42进程!\n",
      "第43进程!\n",
      "第44进程!\n",
      "第45进程!\n",
      "第46进程!\n",
      "第47进程!\n",
      "第48进程!\n",
      "\n",
      "第49进程!第50进程!\n",
      "第51进程!\n",
      "第52进程!第53进程!\n",
      "\n",
      "第54进程!\n",
      "第55进程!\n",
      "第56进程!\n",
      "第57进程!\n",
      "第58进程!\n",
      "第59进程!\n",
      "第60进程!\n",
      "第61进程!\n",
      "第62进程!\n",
      "第63进程!\n",
      "第64进程!\n",
      "第65进程!\n",
      "第66进程!\n",
      "第68进程!第67进程!\n",
      "\n",
      "第69进程!\n",
      "第70进程!\n",
      "第72进程!第71进程!\n",
      "\n",
      "第73进程!第74进程!\n",
      "第75进程!\n",
      "\n",
      "第76进程!\n",
      "第77进程!\n",
      "\n",
      "第78进程!第79进程!\n",
      "\n",
      "第80进程!\n",
      "第81进程!\n",
      "第82进程!第83进程!\n",
      "第84进程!\n",
      "第85进程!\n",
      "第86进程!\n",
      "第87进程!\n",
      "第88进程!\n",
      "第89进程!\n",
      "第90进程!\n",
      "第91进程!\n",
      "\n",
      "第92进程!第93进程!\n",
      "第94进程!\n",
      "第95进程!\n",
      "\n",
      "第96进程!第97进程!\n",
      "第98进程!\n",
      "第99进程!\n",
      "开始时间: 2024-08-09 16:44:14.437969\n"
     ]
    }
   ],
   "source": [
    "from multiprocessing import Process\n",
    "from datetime import datetime\n",
    "def do1(j):\n",
    "    print(\"第%d进程!\"%(j))\n",
    "class MyProgress(Process):\n",
    "    def __init__(self, target, args):\n",
    "        super().__init__()\n",
    "        self.target = target\n",
    "        self.args = args\n",
    "    def run(self):\n",
    "        self.target(self.args)\n",
    "if __name__ == '__main__':\n",
    "    print('开始时间:', datetime.now())\n",
    "    for i in range(100):\n",
    "        p1 = MyProgress(do1, i)\n",
    "        p1.start()\n",
    "    \n",
    "    for i in range(100):\n",
    "        p1.join()\n",
    "    print('开始时间:', datetime.now())"
   ]
  },
  {
   "cell_type": "markdown",
   "metadata": {},
   "source": [
    "#### 基于Pool(进程池)的多进程"
   ]
  },
  {
   "cell_type": "markdown",
   "metadata": {},
   "source": [
    "上一个基于Process的多进程技术使用小规模的并发进程，当产生大规模的并发进程时，将会消耗大量的内存资源，甚至出现运行异常。为了解决大规模并发进程运行问题，这里引入了进程池,下面的例子可以看到批量更大时，使用基于Pool的多进程的速度更快"
   ]
  },
  {
   "cell_type": "code",
   "execution_count": 43,
   "metadata": {},
   "outputs": [
    {
     "name": "stdout",
     "output_type": "stream",
     "text": [
      "开始时间: 2024-08-09 16:43:44.503362\n",
      "第1进程!第4进程!第7进程!第0进程!第2进程!第8进程!第6进程!第12进程!第3进程!第9进程!第18进程!第14进程!第19进程!第11进程!第5进程!第10进程!\n",
      "第17进程!第13进程!第15进程!\n",
      "\n",
      "第20进程!第22进程!\n",
      "\n",
      "\n",
      "第21进程!\n",
      "\n",
      "\n",
      "\n",
      "\n",
      "\n",
      "第23进程!\n",
      "\n",
      "第24进程!\n",
      "第16进程!\n",
      "\n",
      "\n",
      "\n",
      "第25进程!第26进程!\n",
      "第27进程!\n",
      "第30进程!第29进程!第28进程!\n",
      "第31进程!第33进程!第32进程!\n",
      "第35进程!第36进程!第34进程!\n",
      "\n",
      "第38进程!第39进程!第37进程!第41进程!\n",
      "第42进程!\n",
      "第40进程!\n",
      "第43进程!\n",
      "\n",
      "第44进程!\n",
      "\n",
      "\n",
      "第45进程!第46进程!\n",
      "\n",
      "\n",
      "\n",
      "第47进程!第48进程!\n",
      "\n",
      "\n",
      "\n",
      "\n",
      "第49进程!第50进程!\n",
      "第51进程!\n",
      "第52进程!第53进程!\n",
      "第54进程!第55进程!第56进程!第57进程!\n",
      "第58进程!\n",
      "第59进程!\n",
      "第60进程!\n",
      "第61进程!第62进程!第64进程!第63进程!\n",
      "第65进程!第66进程!\n",
      "\n",
      "第67进程!\n",
      "第68进程!\n",
      "\n",
      "\n",
      "\n",
      "\n",
      "\n",
      "第69进程!第70进程!第72进程!\n",
      "\n",
      "第71进程!\n",
      "\n",
      "\n",
      "\n",
      "\n",
      "第73进程!\n",
      "第74进程!\n",
      "第75进程!第76进程!第78进程!\n",
      "第79进程!第77进程!第80进程!第81进程!\n",
      "第82进程!\n",
      "\n",
      "第83进程!第84进程!第86进程!\n",
      "第85进程!第87进程!第89进程!第88进程!\n",
      "\n",
      "第91进程!第90进程!\n",
      "\n",
      "第92进程!\n",
      "\n",
      "\n",
      "\n",
      "\n",
      "第93进程!第94进程!第95进程!\n",
      "\n",
      "第96进程!\n",
      "\n",
      "\n",
      "\n",
      "\n",
      "\n",
      "第97进程!\n",
      "第98进程!\n",
      "第99进程!\n",
      "\n",
      "\n",
      "\n",
      "\n",
      "\n",
      "\n",
      "\n",
      "开始时间: 2024-08-09 16:43:44.582769\n"
     ]
    }
   ],
   "source": [
    "import multiprocessing\n",
    "from datetime import datetime\n",
    "def do1(j):\n",
    "    print(\"第%d进程!\"%(j))\n",
    "class MyProgress(Process):\n",
    "    def __init__(self, target, args):\n",
    "        super().__init__()\n",
    "        self.target = target\n",
    "        self.args = args\n",
    "    def run(self):\n",
    "        self.target(self.args)\n",
    "if __name__ == '__main__':\n",
    "    print('开始时间:', datetime.now())\n",
    "    pool = multiprocessing.Pool()\n",
    "    for i in range(100):\n",
    "        pool.apply_async(do1, (i, ))\n",
    "    pool.close()\n",
    "    pool.join()\n",
    "    print('开始时间:', datetime.now())"
   ]
  },
  {
   "cell_type": "markdown",
   "metadata": {},
   "source": [
    "### 基于Pipe的多进程"
   ]
  },
  {
   "cell_type": "code",
   "execution_count": 46,
   "metadata": {},
   "outputs": [
    {
     "name": "stdout",
     "output_type": "stream",
     "text": [
      "接收{'发送序号': 1, '鲫鱼': [8, 6.2], '鲤鱼': [18, 10.5]}数据成功\n",
      "接收{'发送序号': 2, '鲫鱼': [8, 6.2], '鲤鱼': [18, 10.5]}数据成功\n"
     ]
    }
   ],
   "source": [
    "from multiprocessing import Process, Pipe\n",
    "def do_send(conn_s, j):\n",
    "    conn_s.send({'发送序号':j, '鲫鱼':[8, 6.2], '鲤鱼':[18, 10.5]})\n",
    "    conn_s.close()\n",
    "if __name__ == '__main__':\n",
    "    receive_conn, send_conn = Pipe()\n",
    "    i = 0 \n",
    "    while i < 2:\n",
    "        i += 1\n",
    "        pp = Process(target = do_send, args = (send_conn, i, ))\n",
    "        pp.start()\n",
    "        print(\"接收%s数据成功\"%(receive_conn.recv()))\n",
    "        pp.join()"
   ]
  },
  {
   "cell_type": "markdown",
   "metadata": {},
   "source": [
    "### 基于Queue的多线程"
   ]
  },
  {
   "cell_type": "markdown",
   "metadata": {},
   "source": [
    "队列是另一种可靠的进程之间数据通信的方式，与管道相比，它的优势是可以同步进行多端点通信(超过两个)"
   ]
  },
  {
   "cell_type": "code",
   "execution_count": 50,
   "metadata": {},
   "outputs": [
    {
     "name": "stdout",
     "output_type": "stream",
     "text": [
      "输出[0, 'Tom', 10, 'China']\n",
      "输出[1, 'Tom', 10, 'China']\n",
      "输出[2, 'Tom', 10, 'China']\n",
      "输出[3, 'Tom', 10, 'China']\n",
      "输出[4, 'Tom', 10, 'China']"
     ]
    },
    {
     "name": "stdout",
     "output_type": "stream",
     "text": [
      "\n"
     ]
    }
   ],
   "source": [
    "from multiprocessing import Process, Queue\n",
    "q_object = Queue(5)                  #设置队列的大小为5\n",
    "def SendData(qObject, data):\n",
    "    qObject.put(data)                #将元素放到队列中\n",
    "def receiveData(qObject):\n",
    "    if qObject.empty() is True:\n",
    "        print(\"队列信息为空!\")\n",
    "    else:\n",
    "        show_data = qObject.get()    #从队列中返回一个元素\n",
    "    print(\"输出%s\"%(show_data))\n",
    "if __name__ == '__main__':\n",
    "    send_data = [0, 'Tom', 10, 'China']\n",
    "    for i in range(5):\n",
    "        send_data[0] = i\n",
    "        p1 = Process(target=SendData, args=(q_object, send_data))\n",
    "        \n",
    "        p2 = Process(target=receiveData, args=(q_object, ))\n",
    "        \n",
    "        p1.start()\n",
    "        p2.start()\n",
    "        "
   ]
  },
  {
   "cell_type": "markdown",
   "metadata": {},
   "source": [
    "### 使用爬虫"
   ]
  },
  {
   "cell_type": "code",
   "execution_count": 53,
   "metadata": {},
   "outputs": [
    {
     "name": "stdout",
     "output_type": "stream",
     "text": [
      "<Response [200]>\n"
     ]
    }
   ],
   "source": [
    "import requests\n",
    "r = requests.get('https://blog.csdn.net/')\n",
    "print(r)"
   ]
  },
  {
   "cell_type": "code",
   "execution_count": 58,
   "metadata": {},
   "outputs": [
    {
     "name": "stdout",
     "output_type": "stream",
     "text": [
      "爬取https://www.baidu.com/成功,收到<Response [200]>\n",
      "爬取https://blog.csdn.net/成功,收到<Response [200]>\n",
      "爬取https://www.51sole.com/成功,收到<Response [200]>\n",
      "爬取https://www.metro.cn/出错\n"
     ]
    }
   ],
   "source": [
    "import multiprocessing\n",
    "import requests\n",
    "from requests.exceptions import ConnectionError\n",
    "def scrape(url):\n",
    "    try:\n",
    "        print(\"爬取%s成功,收到%s\"%(url, requests.get(url)))\n",
    "    except ConnectionError:\n",
    "        print(\"爬取%s出错\"%(url))\n",
    "if __name__ == '__main__':\n",
    "    pool = multiprocessing.Pool()\n",
    "    urls = [\n",
    "        'https://blog.csdn.net/',\n",
    "        'https://www.metro.cn/',\n",
    "        'https://www.51sole.com/',\n",
    "        'https://www.baidu.com/'\n",
    "    ]\n",
    "    pool.map(scrape, urls)"
   ]
  }
 ],
 "metadata": {
  "kernelspec": {
   "display_name": "algorithmPractice",
   "language": "python",
   "name": "python3"
  },
  "language_info": {
   "codemirror_mode": {
    "name": "ipython",
    "version": 3
   },
   "file_extension": ".py",
   "mimetype": "text/x-python",
   "name": "python",
   "nbconvert_exporter": "python",
   "pygments_lexer": "ipython3",
   "version": "3.8.19"
  }
 },
 "nbformat": 4,
 "nbformat_minor": 2
}

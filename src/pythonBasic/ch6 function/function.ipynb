{
 "cells": [
  {
   "cell_type": "code",
   "execution_count": 1,
   "metadata": {},
   "outputs": [
    {
     "name": "stdout",
     "output_type": "stream",
     "text": [
      "3\n",
      "Help on function calculate_sum in module __main__:\n",
      "\n",
      "calculate_sum(a, b)\n",
      "    计算两个数的和\n",
      "    \n",
      "    Args:\n",
      "        a (int): 被加数\n",
      "        b (int): 加数\n",
      "    \n",
      "    Returns:\n",
      "        int: 两数的和\n",
      "\n"
     ]
    }
   ],
   "source": [
    "# 定义函数的标准格式,使用帮助函数的方法\n",
    "def calculate_sum(a, b):\n",
    "    \"\"\"\n",
    "    计算两个数的和\n",
    "\n",
    "    Args:\n",
    "        a (int): 被加数\n",
    "        b (int): 加数\n",
    "\n",
    "    Returns:\n",
    "        int: 两数的和\n",
    "    \"\"\"\n",
    "    return a + b\n",
    "\n",
    "print(calculate_sum(1,2))\n",
    "help(calculate_sum)"
   ]
  },
  {
   "cell_type": "code",
   "execution_count": 2,
   "metadata": {},
   "outputs": [
    {
     "name": "stdout",
     "output_type": "stream",
     "text": [
      "aiufwh\n",
      "3\n"
     ]
    }
   ],
   "source": [
    "# 定义函数的标准格式,使用帮助函数的方法\n",
    "def calculate_sum(a, b):\n",
    "    \"\"\"\n",
    "    计算两个数的和\n",
    "\n",
    "    Args:\n",
    "        a (int): 被加数\n",
    "        b (int): 加数\n",
    "\n",
    "    Returns:\n",
    "        int: 两数的和\n",
    "    \"\"\"\n",
    "    if(True | True):\n",
    "        print(\"aiufwh\")\n",
    "    if((type(a) != int) | (type(b) != int)):\n",
    "        raise ValueError(\"Both inputs should be integers\")\n",
    "    return a + b\n",
    "\n",
    "print(calculate_sum(1,2))"
   ]
  },
  {
   "cell_type": "code",
   "execution_count": 14,
   "metadata": {},
   "outputs": [
    {
     "name": "stdout",
     "output_type": "stream",
     "text": [
      "['/home/tipriest/Documents/AlgorithmPractice/src/pythonTest/ch6 function/function', '/usr/lib/python3.8', '/usr/lib/python3.8/lib-dynload', '', '/home/tipriest/.local/lib/python3.8/site-packages', '/usr/local/lib/python3.8/dist-packages', '/usr/lib/python3/dist-packages']\n",
      "['/home/tipriest/Documents/AlgorithmPractice/src/pythonTest/ch6 function/function', '/usr/lib/python3.8', '/usr/lib/python3.8/lib-dynload', '', '/home/tipriest/.local/lib/python3.8/site-packages', '/usr/local/lib/python3.8/dist-packages', '/usr/lib/python3/dist-packages']\n",
      " 1 2 5 10\n",
      " 1 2 5 10\n"
     ]
    },
    {
     "data": {
      "text/plain": [
       "' 1 2 5 10'"
      ]
     },
     "execution_count": 14,
     "metadata": {},
     "output_type": "execute_result"
    }
   ],
   "source": [
    "#Python 文件的名称最好不要与文件夹的名称重名，否则会发生引用错误\n",
    "import sys\n",
    "print(sys.path)\n",
    "sys.path[0] = '/home/tipriest/Documents/AlgorithmPractice/src/pythonTest/ch6 function/function'\n",
    "print(sys.path)\n",
    "import function_storage\n",
    "print(function_storage.find_factor(10))\n",
    "from function_storage import find_factor\n",
    "from function_storage import *\n",
    "find_factor(10)\n",
    "import function_storage as t1\n",
    "print(t1.find_factor(10))\n",
    "from function_storage import find_factor as f1\n",
    "f1(10)"
   ]
  },
  {
   "cell_type": "markdown",
   "metadata": {},
   "source": [
    "自定义函数允许函数传递 位置参数，关键字参数"
   ]
  },
  {
   "cell_type": "markdown",
   "metadata": {},
   "source": [
    "\n",
    "Python可以为函数预先指定默认值，当没有参数时自动使用该默认值，其实想一想，C++里面也可以"
   ]
  },
  {
   "cell_type": "markdown",
   "metadata": {},
   "source": [
    "Python允许传递不定长参数*， \\*\\*，根据实际情况传递参数数量\n",
    "使用格式 function(param1, param2, ..., \\*paramX)，只有最右边可以使用\\*，将会把值作为列表整体进行传递, 如果使用的是\\*\\*的话，那么传递的是不定长的字典的键值对"
   ]
  },
  {
   "cell_type": "code",
   "execution_count": 17,
   "metadata": {},
   "outputs": [
    {
     "name": "stdout",
     "output_type": "stream",
     "text": [
      "1 5 6\n",
      "2 9784992 9785024\n",
      "3 9784992 9785024\n",
      "4 9785312 9785408\n",
      "5 5 6\n",
      "6 9784992 9785024\n"
     ]
    }
   ],
   "source": [
    "#关于Python函数传递的是值还是引用的问题\n",
    "def change_test(a, b):\n",
    "    print(\"3\", id(a), id(b))\n",
    "    a += 10\n",
    "    b += 12\n",
    "    print(\"4\", id(a), id(b))\n",
    "a = 5\n",
    "b = 6\n",
    "print(\"1\", a, b)\n",
    "print(\"2\", id(a), id(b))\n",
    "change_test(a, b)\n",
    "print(\"5\", a, b)\n",
    "print(\"6\", id(a), id(b))"
   ]
  },
  {
   "cell_type": "markdown",
   "metadata": {},
   "source": [
    "Python 如果只是传递整形，浮点型数字，字符串，元组的话是传递的值而非引用，但是如果是列表，字典的话，传递的是引用"
   ]
  },
  {
   "cell_type": "markdown",
   "metadata": {},
   "source": [
    "关于变量，有全局变量，局部变量和闭包变量，Python中在更改全局变量，闭包变量等时需要对变量加上global, nonlocal等关键词进行修饰"
   ]
  },
  {
   "cell_type": "code",
   "execution_count": 18,
   "metadata": {},
   "outputs": [
    {
     "name": "stdout",
     "output_type": "stream",
     "text": [
      "6\n"
     ]
    }
   ],
   "source": [
    "# 匿名函数 lambda表达式\n",
    "a = lambda x,y:x*y\n",
    "print(a(2,3))"
   ]
  }
 ],
 "metadata": {
  "kernelspec": {
   "display_name": "base",
   "language": "python",
   "name": "python3"
  },
  "language_info": {
   "codemirror_mode": {
    "name": "ipython",
    "version": 3
   },
   "file_extension": ".py",
   "mimetype": "text/x-python",
   "name": "python",
   "nbconvert_exporter": "python",
   "pygments_lexer": "ipython3",
   "version": "3.8.10"
  }
 },
 "nbformat": 4,
 "nbformat_minor": 2
}

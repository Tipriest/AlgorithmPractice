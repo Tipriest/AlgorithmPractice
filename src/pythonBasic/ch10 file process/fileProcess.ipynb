{
 "cells": [
  {
   "cell_type": "markdown",
   "metadata": {},
   "source": [
    "## 文件处理"
   ]
  },
  {
   "cell_type": "markdown",
   "metadata": {},
   "source": [
    "### 文本文件的处理"
   ]
  },
  {
   "cell_type": "markdown",
   "metadata": {},
   "source": [
    "关于打开的模式是'w','a','r','x'和‘b‘,’t’,'+','U'的有机结合"
   ]
  },
  {
   "cell_type": "code",
   "execution_count": 5,
   "metadata": {},
   "outputs": [
    {
     "name": "stdout",
     "output_type": "stream",
     "text": [
      "/home/tipriest/Documents/AlgorithmPractice/src/pythonTest/ch10 file process\n"
     ]
    }
   ],
   "source": [
    "import os\n",
    "newfile = os.path.join(os.getcwd(), 't1.txt')\n",
    "b_newfile = open(newfile, 'w')\n",
    "b_newfile.close()"
   ]
  },
  {
   "cell_type": "code",
   "execution_count": 8,
   "metadata": {},
   "outputs": [
    {
     "name": "stdout",
     "output_type": "stream",
     "text": [
      "Have written 13 Bytes Content to the file\n"
     ]
    }
   ],
   "source": [
    "import os\n",
    "newfile = os.path.join(os.getcwd(), 't1.txt')\n",
    "b_newfile = open(newfile, 'w')\n",
    "t_n = b_newfile.write('I like Python')\n",
    "b_newfile.close()\n",
    "print(\"Have written %d Bytes Content to the file\"%(t_n))"
   ]
  },
  {
   "cell_type": "markdown",
   "metadata": {},
   "source": [
    "验证写入模式w和追加写入模式a的区别"
   ]
  },
  {
   "cell_type": "code",
   "execution_count": 9,
   "metadata": {},
   "outputs": [],
   "source": [
    "import os\n",
    "newfile = os.path.join(os.getcwd(), 't1.txt')\n",
    "b_newfile = open(newfile, 'a')\n",
    "b_newfile.write('I like Python')\n",
    "b_newfile.close()"
   ]
  },
  {
   "cell_type": "code",
   "execution_count": 10,
   "metadata": {},
   "outputs": [
    {
     "name": "stdout",
     "output_type": "stream",
     "text": [
      "I like Python\n"
     ]
    }
   ],
   "source": [
    "import os\n",
    "newfile = os.path.join(os.getcwd(), 't1.txt')\n",
    "b_newfile = open(newfile, 'r')\n",
    "tt = b_newfile.read()\n",
    "print(tt)\n",
    "b_newfile.close()"
   ]
  },
  {
   "cell_type": "markdown",
   "metadata": {},
   "source": [
    "不鼓励连续读写的方法，因为存在读写数据的不确定性问题"
   ]
  },
  {
   "cell_type": "code",
   "execution_count": 19,
   "metadata": {},
   "outputs": [
    {
     "name": "stdout",
     "output_type": "stream",
     "text": [
      "I like Python\n",
      "\n"
     ]
    }
   ],
   "source": [
    "import os\n",
    "newfile = os.path.join(os.getcwd(), 't1.txt')\n",
    "b_newfile = open(newfile, 'r+')\n",
    "tt = b_newfile.read()\n",
    "print(tt)\n",
    "b_newfile.write('\\n三酷猫^_^!')\n",
    "# b_newfile.close()\n",
    "# b_newfile = open(newfile, 'r+')\n",
    "tt = b_newfile.read()\n",
    "print(tt)\n",
    "b_newfile.close()"
   ]
  },
  {
   "cell_type": "markdown",
   "metadata": {},
   "source": [
    "在基本的读写操作上，可以考虑多行读写的操作问题"
   ]
  },
  {
   "cell_type": "code",
   "execution_count": 20,
   "metadata": {},
   "outputs": [
    {
     "name": "stdout",
     "output_type": "stream",
     "text": [
      "连续写入完成!\n"
     ]
    }
   ],
   "source": [
    "nums = ['one', 'two', 'three', 'four', 'five', 'six', 'seven']\n",
    "newfile = os.path.join(os.getcwd(), 't2.txt')\n",
    "b_newfile = open(newfile, 'a')\n",
    "for get_one in nums:\n",
    "    b_newfile.write(get_one+'\\n')\n",
    "b_newfile.close()\n",
    "print(\"连续写入完成!\")"
   ]
  },
  {
   "cell_type": "markdown",
   "metadata": {},
   "source": [
    "一次读一行的方法"
   ]
  },
  {
   "cell_type": "code",
   "execution_count": 22,
   "metadata": {},
   "outputs": [
    {
     "name": "stdout",
     "output_type": "stream",
     "text": [
      "one\n",
      "\n",
      "1\n",
      "two\n",
      "\n",
      "1\n",
      "three\n",
      "\n",
      "1\n",
      "four\n",
      "\n",
      "1\n",
      "five\n",
      "\n",
      "1\n",
      "six\n",
      "\n",
      "1\n",
      "seven\n",
      "\n",
      "1\n",
      "\n",
      "1\n"
     ]
    }
   ],
   "source": [
    "newfile = os.path.join(os.getcwd(), 't2.txt')\n",
    "b_newfile = open(newfile, 'r')\n",
    "dd = 1\n",
    "while dd:\n",
    "    dd = b_newfile.readline()\n",
    "    print(dd)\n",
    "    print(1)"
   ]
  },
  {
   "cell_type": "markdown",
   "metadata": {},
   "source": [
    "以列表格式读取多行"
   ]
  },
  {
   "cell_type": "code",
   "execution_count": 25,
   "metadata": {},
   "outputs": [
    {
     "name": "stdout",
     "output_type": "stream",
     "text": [
      "['one\\n', 'two\\n', 'three\\n', 'four\\n', 'five\\n', 'six\\n', 'seven\\n']\n"
     ]
    }
   ],
   "source": [
    "newfile = os.path.join(os.getcwd(), 't2.txt')\n",
    "b_newfile = open(newfile, 'r')\n",
    "L_s = b_newfile.readlines()\n",
    "print(L_s)"
   ]
  },
  {
   "cell_type": "markdown",
   "metadata": {},
   "source": [
    "readline读的是这一行的剩余字节，哪怕输入的参数比这一行的剩余字节要多，但是read就是输入多少字节就读多少字节"
   ]
  },
  {
   "cell_type": "code",
   "execution_count": 32,
   "metadata": {},
   "outputs": [
    {
     "name": "stdout",
     "output_type": "stream",
     "text": [
      "111o222\n",
      "111ne\n",
      "222\n",
      "111two\n",
      "t222\n",
      "111hree222\n"
     ]
    }
   ],
   "source": [
    "newfile = os.path.join(os.getcwd(), 't2.txt')\n",
    "b_newfile = open(newfile, 'r')\n",
    "print('111'+b_newfile.readline(1)+'222')\n",
    "print('111'+b_newfile.readline(3)+'222')\n",
    "print('111'+b_newfile.read(5)+'222')\n",
    "print('111'+b_newfile.read(4)+'222')"
   ]
  },
  {
   "cell_type": "code",
   "execution_count": 37,
   "metadata": {},
   "outputs": [
    {
     "name": "stdout",
     "output_type": "stream",
     "text": [
      "111222\n",
      "111222\n",
      "111222\n",
      "111222\n",
      "37\n",
      "37\n"
     ]
    }
   ],
   "source": [
    "newfile = os.path.join(os.getcwd(), 't2.txt')\n",
    "b_newfile = open(newfile, 'a+')\n",
    "print('111'+b_newfile.readline(1)+'222')\n",
    "print('111'+b_newfile.readline(3)+'222')\n",
    "print('111'+b_newfile.read(5)+'222')\n",
    "print('111'+b_newfile.read(4)+'222')\n",
    "print(b_newfile.tell())   #tell()方法返回当前文件可以读写的位置(字节数)\n",
    "b_newfile.read(2)\n",
    "print(b_newfile.tell())\n",
    "b_newfile.seek(15)\n",
    "b_newfile.write(\"---\")\n",
    "b_newfile.close()"
   ]
  },
  {
   "cell_type": "markdown",
   "metadata": {},
   "source": [
    "如果打开的模式是r+的话，那么seek到了15的位置，之后是将三个字母替换掉，如果打开的模式是a+的话，那么不管seek的数字是多少，最后都只是在最后加上想要写入的数字，那么如果只是想要插入'---'的话应该怎么办呢，一种方法是先将文件读进来，然后在缓存中进行处理重新写入文件"
   ]
  },
  {
   "cell_type": "markdown",
   "metadata": {},
   "source": [
    "### 文件异常处理"
   ]
  },
  {
   "cell_type": "code",
   "execution_count": 38,
   "metadata": {},
   "outputs": [
    {
     "name": "stdout",
     "output_type": "stream",
     "text": [
      "打开/home/tipriest/Documents/AlgorithmPractice/src/pythonTest/ch10 file processt3.txt文件出错,请检查!\n"
     ]
    }
   ],
   "source": [
    "newfile = os.path.join(os.getcwd(), 't3.txt')\n",
    "flag = False\n",
    "try:\n",
    "    f = open(newfile, 'r')\n",
    "    print(f.read())\n",
    "    flag = True\n",
    "except:\n",
    "    print(\"打开%s文件出错,请检查!\"%(newfile))\n",
    "finally:\n",
    "    if flag:\n",
    "        f.close()\n",
    "    "
   ]
  },
  {
   "cell_type": "markdown",
   "metadata": {},
   "source": [
    "### 文件与路径"
   ]
  },
  {
   "cell_type": "code",
   "execution_count": 52,
   "metadata": {},
   "outputs": [
    {
     "name": "stdout",
     "output_type": "stream",
     "text": [
      "/home/tipriest/Documents/AlgorithmPractice/src/pythonTest/ch10 file process\n",
      "/home/tipriest/Documents/AlgorithmPractice/src/pythonTest/ch10 file process\n",
      "/home/tipriest/Documents/AlgorithmPractice/src/pythonTest/ch10 file process/t1.txt\n",
      "True\n",
      "True\n",
      "True\n",
      "True\n"
     ]
    }
   ],
   "source": [
    "import os\n",
    "print(os.path.abspath(os.path.curdir))\n",
    "print(os.getcwd())\n",
    "newfile = os.path.join(os.getcwd(), 't1.txt')\n",
    "print(newfile)\n",
    "b_newfile = open(newfile, 'a+')\n",
    "b_newfile.write('+++')\n",
    "# 判断指定路径下文件是否存在\n",
    "print(os.path.exists(newfile))\n",
    "# 判断指定路径下文件是否存在\n",
    "print(os.path.isfile(newfile))\n",
    "# 判断指定路径是否存在\n",
    "print(os.path.isdir(os.getcwd()))\n",
    "# exists也可以判断指定路径是否存在\n",
    "print(os.path.exists(os.getcwd()))\n",
    "# 建立文件夹\n",
    "os.makedirs(os.path.join(os.getcwd(), 'makedir/test'))"
   ]
  },
  {
   "cell_type": "code",
   "execution_count": 55,
   "metadata": {},
   "outputs": [
    {
     "name": "stdout",
     "output_type": "stream",
     "text": [
      "close the file!\n"
     ]
    }
   ],
   "source": [
    "# import os\n",
    "# newfile = os.path.join(os.getcwd(), 'dir', 'fha.txt')\n",
    "# print(newfile)\n",
    "# open(newfile, 'w')\n",
    "import os\n",
    "import sys\n",
    "newdir = os.path.join(os.getcwd(), 'dir')\n",
    "try:\n",
    "    if not os.path.isdir(newdir):\n",
    "        os.makedirs(newdir)\n",
    "except:\n",
    "    print(\"failed to make new dir\")\n",
    "    sys.exit()\n",
    "newfile = os.path.join(newdir, 't3.txt')\n",
    "flag = False\n",
    "try:\n",
    "    if not os.path.exists(newfile):\n",
    "        f_newfile = open(newfile, 'w')\n",
    "        flag = True\n",
    "        f_newfile.write(\"Hello!\")\n",
    "except:\n",
    "    print(\"fail to create the file\")\n",
    "finally:\n",
    "    if flag:\n",
    "        print(\"close the file!\")\n",
    "        f_newfile.close()\n"
   ]
  }
 ],
 "metadata": {
  "kernelspec": {
   "display_name": "Python 3",
   "language": "python",
   "name": "python3"
  },
  "language_info": {
   "codemirror_mode": {
    "name": "ipython",
    "version": 3
   },
   "file_extension": ".py",
   "mimetype": "text/x-python",
   "name": "python",
   "nbconvert_exporter": "python",
   "pygments_lexer": "ipython3",
   "version": "3.8.10"
  }
 },
 "nbformat": 4,
 "nbformat_minor": 2
}

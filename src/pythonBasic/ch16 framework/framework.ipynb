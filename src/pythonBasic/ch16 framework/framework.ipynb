{
 "cells": [
  {
   "cell_type": "markdown",
   "metadata": {},
   "source": [
    "### Web应用框架程序"
   ]
  },
  {
   "cell_type": "markdown",
   "metadata": {},
   "source": [
    "Web应用的程序框架是各种包和模块的集合，在此基础上程序员可以直接开发各种业务处理功能，而无需考虑Web的各种协议，底层通信，线程管理等低级技术细节问题"
   ]
  },
  {
   "cell_type": "markdown",
   "metadata": {},
   "source": [
    "Web应用程序框架提供数据库访问模块，网页模板，身份认证模块，AJAX工具包等功能"
   ]
  },
  {
   "cell_type": "markdown",
   "metadata": {},
   "source": [
    "常用的框架有如Django, TurboGears 2, web2py, web.py等应用程序框架"
   ]
  },
  {
   "cell_type": "markdown",
   "metadata": {},
   "source": [
    "#### web.py框架"
   ]
  },
  {
   "cell_type": "markdown",
   "metadata": {},
   "source": [
    "web.py属于轻量级, 开源, 基于Python, 易于初学者学习的一款专业级别的web"
   ]
  }
 ],
 "metadata": {
  "language_info": {
   "name": "python"
  }
 },
 "nbformat": 4,
 "nbformat_minor": 2
}
